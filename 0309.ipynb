{
 "cells": [
  {
   "cell_type": "code",
   "execution_count": 2,
   "id": "dc91fe31-d6b0-4b47-9216-4317476a5055",
   "metadata": {},
   "outputs": [
    {
     "name": "stdin",
     "output_type": "stream",
     "text": [
      "Enter the number: 2\n",
      "Enter the number: 15\n"
     ]
    },
    {
     "name": "stdout",
     "output_type": "stream",
     "text": [
      "3\n",
      "4\n",
      "5\n",
      "6\n",
      "7\n",
      "8\n",
      "9\n",
      "10\n",
      "11\n",
      "12\n",
      "13\n",
      "14\n"
     ]
    }
   ],
   "source": [
    "#Get input for numbers a and b,print the number between a and b\n",
    "a=int(input(\"Enter the number:\"))\n",
    "b=int(input(\"Enter the number:\"))\n",
    "for i in range(a+1,b):\n",
    "    print(i)"
   ]
  },
  {
   "cell_type": "code",
   "execution_count": 4,
   "id": "ff008cfa-faff-4ac4-bc42-3328782aacf5",
   "metadata": {
    "scrolled": true
   },
   "outputs": [
    {
     "name": "stdout",
     "output_type": "stream",
     "text": [
      "2\n",
      "4\n",
      "6\n",
      "8\n",
      "10\n",
      "12\n",
      "14\n"
     ]
    }
   ],
   "source": [
    "#print even number between 1 to 15\n",
    "for i in range(1,16):\n",
    "    if i%2==0:\n",
    "        print(i)"
   ]
  },
  {
   "cell_type": "code",
   "execution_count": 8,
   "id": "6b719569-5d80-43d8-bf4a-14c3341db3c0",
   "metadata": {},
   "outputs": [
    {
     "name": "stdout",
     "output_type": "stream",
     "text": [
      "10\n"
     ]
    }
   ],
   "source": [
    "#count the number of odd numbers between 1 to 20 \n",
    "Count=0\n",
    "for i in range(1,21):\n",
    "    if(i%2!=0):\n",
    "        Count=Count+1\n",
    "print(Count)\n",
    "        "
   ]
  },
  {
   "cell_type": "code",
   "execution_count": 12,
   "id": "07bd41cf-126c-4fc5-9345-0b5998645e6b",
   "metadata": {},
   "outputs": [
    {
     "name": "stdout",
     "output_type": "stream",
     "text": [
      "10\n",
      "10\n"
     ]
    }
   ],
   "source": [
    "#count the number of odd and even number between 1 to 20 \n",
    "e_count=0\n",
    "o_count=0\n",
    "for i in range(1,21):\n",
    "    if(i%2==0):\n",
    "        e_count=e_count+1\n",
    "    else:\n",
    "        o_count=o_count+1\n",
    "print(e_count)\n",
    "print(o_count)\n",
    "\n",
    "\n"
   ]
  },
  {
   "cell_type": "code",
   "execution_count": 14,
   "id": "f2044e63-9d99-4afc-8f83-be3dd4f4b287",
   "metadata": {},
   "outputs": [
    {
     "name": "stdout",
     "output_type": "stream",
     "text": [
      "15\n",
      "30\n",
      "45\n",
      "3\n"
     ]
    }
   ],
   "source": [
    "#count the number which are divisible by 3 and 5 range 1-50\n",
    "count=0\n",
    "for i in range(1,51):\n",
    "    if(i%3==0 and i%5==0):\n",
    "        count=count+1\n",
    "        print(i)\n",
    "print(count)"
   ]
  },
  {
   "cell_type": "code",
   "execution_count": 16,
   "id": "01a8f3cb-e557-474e-9d48-151d374c23d5",
   "metadata": {},
   "outputs": [
    {
     "name": "stdout",
     "output_type": "stream",
     "text": [
      "15\n"
     ]
    }
   ],
   "source": [
    "#sum of the first 5 natural numbers using loop \n",
    "Sum=0\n",
    "for i in range(1,6):\n",
    "    Sum=Sum+i\n",
    "print(Sum)"
   ]
  },
  {
   "cell_type": "code",
   "execution_count": 20,
   "id": "3898cbbf-aa43-42b1-884e-6ce2fe2375c1",
   "metadata": {},
   "outputs": [
    {
     "name": "stdin",
     "output_type": "stream",
     "text": [
      " 2\n",
      " 3\n",
      " 4\n",
      " 5\n",
      " 6\n",
      " 7\n",
      " 8\n",
      " 9\n",
      " 10\n",
      " 3\n"
     ]
    },
    {
     "name": "stdout",
     "output_type": "stream",
     "text": [
      "[2, 3, 4, 5, 6, 7, 8, 9, 10, 3]\n",
      "57\n"
     ]
    }
   ],
   "source": [
    "#To read 10 number from the user and find their sum\n",
    "a=[]\n",
    "for i in range(10):\n",
    "    num=int(input())\n",
    "    a.append(num)\n",
    "print(a)\n",
    "Sum=0\n",
    "for i in a:\n",
    "    Sum=Sum+i\n",
    "print(Sum)\n"
   ]
  },
  {
   "cell_type": "code",
   "execution_count": 22,
   "id": "be8bb592-24ee-4603-8982-1c0c92bc4160",
   "metadata": {},
   "outputs": [
    {
     "name": "stdout",
     "output_type": "stream",
     "text": [
      "35\n",
      "7\n"
     ]
    }
   ],
   "source": [
    "b=[2,3,4,5,6,7,8]\n",
    "Sum=0\n",
    "count=0\n",
    "for i in b:\n",
    "    Sum=Sum+i\n",
    "    count=count+1\n",
    "print(Sum)\n",
    "print(count)"
   ]
  },
  {
   "cell_type": "code",
   "execution_count": 39,
   "id": "514006c3-8558-4880-a4da-e8f5813b5363",
   "metadata": {
    "scrolled": true
   },
   "outputs": [
    {
     "name": "stdout",
     "output_type": "stream",
     "text": [
      "* \n",
      "* * \n",
      "* * * \n",
      "* * * * \n"
     ]
    }
   ],
   "source": [
    "#To display a pattern like a right angle trianle using asterisk\n",
    "for i in range(1,5):\n",
    "    for j in range(1,i+1):\n",
    "        print('*',end=\" \")\n",
    "    print()"
   ]
  },
  {
   "cell_type": "code",
   "execution_count": 40,
   "id": "ee7fc23c-51af-44b1-92c7-f0eece502c13",
   "metadata": {},
   "outputs": [
    {
     "name": "stdout",
     "output_type": "stream",
     "text": [
      "1 \n",
      "1 2 \n",
      "1 2 3 \n",
      "1 2 3 4 \n"
     ]
    }
   ],
   "source": [
    "for i in range(1,5):\n",
    "    for j in range(1,i+1):\n",
    "        print(j,end=\" \")\n",
    "    print()"
   ]
  },
  {
   "cell_type": "code",
   "execution_count": 42,
   "id": "7ef0ff9f-f3d4-4d89-a7d3-a7f472feb707",
   "metadata": {},
   "outputs": [
    {
     "name": "stdout",
     "output_type": "stream",
     "text": [
      "Week : 1\n",
      "Day: 1\n",
      "Day: 2\n",
      "Day: 3\n",
      "Week : 2\n",
      "Day: 1\n",
      "Day: 2\n",
      "Day: 3\n"
     ]
    }
   ],
   "source": [
    "for i in range(1,3):\n",
    "    print(\"Week :\",i)\n",
    "    for j in range(1,4):\n",
    "        print(\"Day:\",j)\n"
   ]
  },
  {
   "cell_type": "code",
   "execution_count": null,
   "id": "995ec6d3-07b4-4fc9-a258-d9bb20e6b675",
   "metadata": {},
   "outputs": [],
   "source": []
  }
 ],
 "metadata": {
  "kernelspec": {
   "display_name": "Python 3 (ipykernel)",
   "language": "python",
   "name": "python3"
  },
  "language_info": {
   "codemirror_mode": {
    "name": "ipython",
    "version": 3
   },
   "file_extension": ".py",
   "mimetype": "text/x-python",
   "name": "python",
   "nbconvert_exporter": "python",
   "pygments_lexer": "ipython3",
   "version": "3.12.3"
  }
 },
 "nbformat": 4,
 "nbformat_minor": 5
}
