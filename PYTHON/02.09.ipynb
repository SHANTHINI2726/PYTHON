{
 "cells": [
  {
   "cell_type": "code",
   "execution_count": 1,
   "id": "32a91f57-7d33-41de-ba09-b26bb530c55e",
   "metadata": {},
   "outputs": [
    {
     "name": "stdin",
     "output_type": "stream",
     "text": [
      "enter your electricity unit: 270\n"
     ]
    },
    {
     "name": "stdout",
     "output_type": "stream",
     "text": [
      "Electricity charges: 1200\n"
     ]
    }
   ],
   "source": [
    "amount=0\n",
    "unit=int(input('enter your electricity unit:'))\n",
    "if(unit<=100):\n",
    "    print(\"No electricity charges\")\n",
    "elif(unit>100 and unit<=200):\n",
    "    amount=(unit-100)*5\n",
    "    print(\"Electricity charges:\",amount)\n",
    "else:\n",
    "    amount=500+(unit-200)*10\n",
    "    print(\"Electricity charges:\",amount)"
   ]
  },
  {
   "cell_type": "code",
   "execution_count": 4,
   "id": "7136e265-5285-4a20-8e14-579fd251bd02",
   "metadata": {},
   "outputs": [
    {
     "name": "stdin",
     "output_type": "stream",
     "text": [
      "Enter the bike price: 75000\n"
     ]
    },
    {
     "name": "stdout",
     "output_type": "stream",
     "text": [
      "Tax amount: 7500.0\n"
     ]
    }
   ],
   "source": [
    "#2)          price\t\t    Tax\n",
    "\n",
    "\t#>100000\t\t\t    15%\n",
    "    #>50000 and <=100000    10%\n",
    "    #<=50000\t\t\t    5%\n",
    "\n",
    "tax=0\n",
    "price=int(input(\"Enter the bike price:\"))\n",
    "if(price>100000):\n",
    "    tax=15/100*price\n",
    "    print('Tax amount:',tax)\n",
    "elif(price>50000 and price<=100000):\n",
    "    tax=10/100*price\n",
    "    print('Tax amount:',tax)\n",
    "else:\n",
    "    tax=5/100*price\n",
    "    print('Tax amount:',tax)\n",
    "\n",
    "\n"
   ]
  },
  {
   "cell_type": "code",
   "execution_count": 5,
   "id": "6c088651-5cdb-4a70-943f-7ab758aea240",
   "metadata": {},
   "outputs": [
    {
     "name": "stdin",
     "output_type": "stream",
     "text": [
      "Enter the day in num: 3\n"
     ]
    },
    {
     "name": "stdout",
     "output_type": "stream",
     "text": [
      "Wednesday\n"
     ]
    }
   ],
   "source": [
    "# Write a program to accept a number from 1 to 7 and display the name of the day like 1 for sunday, 2 for monday and so on \n",
    "day=int(input(\"Enter the day in num:\"))\n",
    "if(day==1):\n",
    "    print('sunday')\n",
    "elif(day==2):\n",
    "    print(\"Monday\")\n",
    "elif(day==3):\n",
    "    print(\"Wednesday\")\n",
    "elif(day==4):\n",
    "    print(\"Thursday\")\n",
    "else:\n",
    "    print(\"Invalid input\")\n",
    "          \n"
   ]
  },
  {
   "cell_type": "code",
   "execution_count": 7,
   "id": "7fa78964-fd75-4146-9a31-7c455a54ff6d",
   "metadata": {},
   "outputs": [
    {
     "name": "stdin",
     "output_type": "stream",
     "text": [
      "Enter the city AGra\n"
     ]
    },
    {
     "name": "stdout",
     "output_type": "stream",
     "text": [
      "taj mahal\n"
     ]
    }
   ],
   "source": [
    "city=input(\"Enter the city\")\n",
    "if (city.lower()==\"delhi\"):\n",
    "    print('Red fort')\n",
    "elif(city.lower()==\"agra\"):\n",
    "    print(\"taj mahal\")\n",
    "elif(city.lower()==\"jaipur\"):\n",
    "    print(\"Jal mahal\")\n",
    "else:\n",
    "    print(\"invalid city\")"
   ]
  },
  {
   "cell_type": "code",
   "execution_count": 10,
   "id": "f2ab1d5d-d1c6-49be-a22c-ea1b22f00ebf",
   "metadata": {},
   "outputs": [
    {
     "name": "stdin",
     "output_type": "stream",
     "text": [
      " 4567\n"
     ]
    },
    {
     "name": "stdout",
     "output_type": "stream",
     "text": [
      "invalid number\n"
     ]
    }
   ],
   "source": [
    "num=input()\n",
    "a=len(num)\n",
    "if a==3:\n",
    "    print(\"three digit number\")\n",
    "else:\n",
    "    print(\"invalid number\")"
   ]
  },
  {
   "cell_type": "code",
   "execution_count": 14,
   "id": "6d6f02ba-6662-4bdd-a39b-be75df58abb6",
   "metadata": {},
   "outputs": [
    {
     "name": "stdout",
     "output_type": "stream",
     "text": [
      "1 * 2 = 2\n",
      "2 * 2 = 4\n",
      "3 * 2 = 6\n",
      "4 * 2 = 8\n",
      "5 * 2 = 10\n",
      "6 * 2 = 12\n",
      "7 * 2 = 14\n",
      "8 * 2 = 16\n",
      "9 * 2 = 18\n",
      "10 * 2 = 20\n"
     ]
    }
   ],
   "source": [
    "for i in range(1,11):\n",
    "    print(i,\"*\",\"2\",\"=\",i*2)\n"
   ]
  },
  {
   "cell_type": "code",
   "execution_count": null,
   "id": "85dddf4b-143a-42b8-885c-87eb0a04d1d0",
   "metadata": {},
   "outputs": [],
   "source": []
  }
 ],
 "metadata": {
  "kernelspec": {
   "display_name": "Python 3 (ipykernel)",
   "language": "python",
   "name": "python3"
  },
  "language_info": {
   "codemirror_mode": {
    "name": "ipython",
    "version": 3
   },
   "file_extension": ".py",
   "mimetype": "text/x-python",
   "name": "python",
   "nbconvert_exporter": "python",
   "pygments_lexer": "ipython3",
   "version": "3.12.3"
  }
 },
 "nbformat": 4,
 "nbformat_minor": 5
}
