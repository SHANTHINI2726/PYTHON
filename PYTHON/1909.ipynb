{
 "cells": [
  {
   "cell_type": "code",
   "execution_count": 4,
   "id": "f7100567-e6d9-4121-9b8e-dc50becb649e",
   "metadata": {},
   "outputs": [
    {
     "name": "stdout",
     "output_type": "stream",
     "text": [
      "phone\n",
      "laptop\n",
      "game\n"
     ]
    }
   ],
   "source": [
    "#2)multiple inheritance\n",
    "class dad():\n",
    "    def phone(self):\n",
    "        print(\"phone\")\n",
    "class mom():\n",
    "    def laptop(self):\n",
    "        print(\"laptop\")\n",
    "class son(dad,mom):\n",
    "    def games(self):\n",
    "        print(\"game\")\n",
    "Anand=son()\n",
    "Anand.phone()\n",
    "Anand.laptop()\n",
    "Anand.games()"
   ]
  },
  {
   "cell_type": "code",
   "execution_count": 5,
   "id": "b45de8a5-1784-48ec-b41a-d12a45c9295d",
   "metadata": {},
   "outputs": [
    {
     "name": "stdout",
     "output_type": "stream",
     "text": [
      "play football\n",
      "play cricket\n",
      "play chess\n",
      "-----------------------------------------\n",
      "play cricket\n",
      "play football\n"
     ]
    }
   ],
   "source": [
    "#3) Multilevel inheritance\n",
    "class outdoorgames():\n",
    "    def cricket(self):\n",
    "        print(\"play cricket\")\n",
    "class games(outdoorgames):\n",
    "    defames(outdoorgam football(self):\n",
    "        print(\"play football\")\n",
    "class person(games):\n",
    "    def chess(self):\n",
    "        print(\"play chess\")\n",
    "\n",
    "Anand=person()\n",
    "Ram=games()\n",
    "Anand.football()\n",
    "Anand.cricket()\n",
    "Anand.chess()\n",
    "print(\"-----------------------------------------\")\n",
    "Ram.cricket()\n",
    "Ram.football()"
   ]
  },
  {
   "cell_type": "code",
   "execution_count": 9,
   "id": "6ce96719-0298-4d1f-bef4-cad74d31e0db",
   "metadata": {},
   "outputs": [
    {
     "name": "stdout",
     "output_type": "stream",
     "text": [
      "dad's money\n",
      "dad's money\n",
      "phone\n"
     ]
    }
   ],
   "source": [
    "#Hierarchical inheritance\n",
    "class dad():\n",
    "    def money(self):\n",
    "        print(\"dad's money\")\n",
    "class son1(dad):\n",
    "    def phone(self):\n",
    "        print(\"phone\")    \n",
    "class son2(dad):\n",
    "    pass\n",
    "class son3(dad):\n",
    "    pass\n",
    "s2=son2()\n",
    "s2.money()\n",
    "s1=son1()\n",
    "s1.money()\n",
    "s1.phone()"
   ]
  },
  {
   "cell_type": "code",
   "execution_count": 18,
   "id": "997f992d-02cf-49ac-80c2-6add9e150d9e",
   "metadata": {},
   "outputs": [
    {
     "name": "stdout",
     "output_type": "stream",
     "text": [
      "Land\n",
      "Money\n",
      "-----------------------------\n",
      "Money\n"
     ]
    }
   ],
   "source": [
    "#hybrid inheritance\n",
    "class granpa():\n",
    "    def land(self):\n",
    "        print(\"Land\")\n",
    "class dad():\n",
    "    def money(self):\n",
    "        print(\"Money\")\n",
    "class son1(granpa,dad):\n",
    "    pass\n",
    "class son2(dad):\n",
    "    pass\n",
    "s1=son1()\n",
    "s1.land()\n",
    "s1.money()\n",
    "print(\"-----------------------------\")\n",
    "s2=son2()\n",
    "s2.money()"
   ]
  },
  {
   "cell_type": "code",
   "execution_count": 20,
   "id": "ffce1763-0f84-4778-8e5f-e93d2ab803e9",
   "metadata": {},
   "outputs": [
    {
     "name": "stdout",
     "output_type": "stream",
     "text": [
      "Animal makes a sound\n",
      "Dogs barks\n",
      "Birds sings\n"
     ]
    }
   ],
   "source": [
    "#1) i)create a class called Animal with a sound() that prints \"animal makes a sound\"\n",
    "#ii) create a derived class called dog that inherits from animal and overides the  sound() method to print \"dogs barks\"\n",
    "#create another class called bird that inherits from animal and overides the sound method print \"birds sing\"\n",
    "class Animal():\n",
    "    def sound(self):\n",
    "        print(\"Animal makes a sound\")\n",
    "class dog(Animal):\n",
    "    def sound(self):\n",
    "        print('Dogs barks')\n",
    "class bird(Animal):\n",
    "    def sound(self):\n",
    "        print(\"Birds sings\")\n",
    "ob=Animal()\n",
    "ob.sound()\n",
    "obj=dog()\n",
    "obj.sound()\n",
    "obj2=bird()\n",
    "obj2.sound()\n",
    "        \n"
   ]
  },
  {
   "cell_type": "code",
   "execution_count": 21,
   "id": "a95f921a-311d-48d7-aa1d-c8d5fe295346",
   "metadata": {},
   "outputs": [
    {
     "name": "stdout",
     "output_type": "stream",
     "text": [
      "Area of rectangle: 12\n"
     ]
    }
   ],
   "source": [
    "#create a base class called shape,with a method area()that return 0.create a derived class called rectangle that inherits from \n",
    "#shape and overides area() method to calculate the and return the are of rectangle\n",
    "class shape():\n",
    "    def area(self):\n",
    "        return 0\n",
    "class rectangle(shape):\n",
    "    def area(self):\n",
    "        length=4\n",
    "        width=3\n",
    "        print(\"Area of rectangle:\",length*width)\n",
    "Rect=rectangle()\n",
    "Rect.area()\n",
    "     \n"
   ]
  },
  {
   "cell_type": "code",
   "execution_count": null,
   "id": "ae607155-cb1d-44cd-8ee3-8fed2cc602a5",
   "metadata": {},
   "outputs": [],
   "source": []
  }
 ],
 "metadata": {
  "kernelspec": {
   "display_name": "Python 3 (ipykernel)",
   "language": "python",
   "name": "python3"
  },
  "language_info": {
   "codemirror_mode": {
    "name": "ipython",
    "version": 3
   },
   "file_extension": ".py",
   "mimetype": "text/x-python",
   "name": "python",
   "nbconvert_exporter": "python",
   "pygments_lexer": "ipython3",
   "version": "3.12.3"
  }
 },
 "nbformat": 4,
 "nbformat_minor": 5
}
