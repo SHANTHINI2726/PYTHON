{
 "cells": [
  {
   "cell_type": "code",
   "execution_count": 1,
   "id": "bbb1fbaf-9be0-43cb-ba9a-4cb31f831b64",
   "metadata": {},
   "outputs": [
    {
     "name": "stdout",
     "output_type": "stream",
     "text": [
      "8\n",
      "Private use\n"
     ]
    }
   ],
   "source": [
    "#polymorphism\n",
    "class car():\n",
    "    def wheels(self):\n",
    "        print(4)\n",
    "    def mode_of_transport(self):\n",
    "        print(\"Private use\")\n",
    "\n",
    "class bus(car):\n",
    "    def wheels(self):\n",
    "        print(8)\n",
    "    def mode_of_transport(self):\n",
    "        print(\"Public use\")\n",
    "obj_car=car()\n",
    "obj_bus=bus()\n",
    "obj_bus.wheels()\n",
    "obj_car.mode_of_transport()\n",
    "    \n",
    "    "
   ]
  },
  {
   "cell_type": "code",
   "execution_count": 2,
   "id": "df33e119-2510-4003-8e33-4fa5d7d57049",
   "metadata": {},
   "outputs": [
    {
     "ename": "AttributeError",
     "evalue": "'company' object has no attribute '__companyname'",
     "output_type": "error",
     "traceback": [
      "\u001b[1;31m---------------------------------------------------------------------------\u001b[0m",
      "\u001b[1;31mAttributeError\u001b[0m                            Traceback (most recent call last)",
      "Cell \u001b[1;32mIn[2], line 6\u001b[0m\n\u001b[0;32m      4\u001b[0m         \u001b[38;5;28mself\u001b[39m\u001b[38;5;241m.\u001b[39m__companyname\u001b[38;5;241m=\u001b[39m\u001b[38;5;124m\"\u001b[39m\u001b[38;5;124mGoogle\u001b[39m\u001b[38;5;124m\"\u001b[39m\n\u001b[0;32m      5\u001b[0m c1\u001b[38;5;241m=\u001b[39mcompany()\n\u001b[1;32m----> 6\u001b[0m \u001b[38;5;28mprint\u001b[39m(\u001b[43mc1\u001b[49m\u001b[38;5;241;43m.\u001b[39;49m\u001b[43m__companyname\u001b[49m)\n",
      "\u001b[1;31mAttributeError\u001b[0m: 'company' object has no attribute '__companyname'"
     ]
    }
   ],
   "source": [
    "#Encapsulation\n",
    "class company():\n",
    "    def __init__(self):\n",
    "        self.__companyname=\"Google\"\n",
    "c1=company()\n",
    "print(c1.__companyname)"
   ]
  },
  {
   "cell_type": "code",
   "execution_count": 3,
   "id": "a368b793-64e5-4756-8513-4c2edcfd97e8",
   "metadata": {},
   "outputs": [
    {
     "name": "stdout",
     "output_type": "stream",
     "text": [
      "Google\n"
     ]
    }
   ],
   "source": [
    "class company():\n",
    "    def __init__(self):\n",
    "        self._companyname=\"Google\"\n",
    "c1=company()\n",
    "print(c1._companyname)"
   ]
  },
  {
   "cell_type": "code",
   "execution_count": 7,
   "id": "36be51a4-6a37-40c9-b8ab-da9a89ef732c",
   "metadata": {},
   "outputs": [
    {
     "name": "stdout",
     "output_type": "stream",
     "text": [
      "Apple\n"
     ]
    }
   ],
   "source": [
    "class company():\n",
    "    def __init__(self):\n",
    "        self.__companyname=\"Google\"\n",
    "    def companyname(self):\n",
    "        print(self.__companyname)\n",
    "c1=company()\n",
    "c1.companyname=\"Apple\"\n",
    "print(c1.companyname)"
   ]
  },
  {
   "cell_type": "code",
   "execution_count": 14,
   "id": "cb20a0da-a9b3-49aa-bd22-6437c9f38297",
   "metadata": {},
   "outputs": [
    {
     "name": "stdout",
     "output_type": "stream",
     "text": [
      "Forward\n",
      "B\n"
     ]
    }
   ],
   "source": [
    "#Abstraction ---> To hide unwanted methods\n",
    "from abc import ABC,abstractmethod\n",
    "class car(ABC):\n",
    "    def moveforward(self):\n",
    "        print(\"M\")\n",
    "    def backforward(self):\n",
    "        print(\"B\")\n",
    "        pass\n",
    "class swift(car):\n",
    "    def moveforward(self):\n",
    "        print(\"Forward\")\n",
    "    #def backforward(self):\n",
    "       # print(\"Backforward\")\n",
    "        \n",
    "    \n",
    "c=swift()\n",
    "c.moveforward()\n",
    "c.backforward()\n",
    "\n"
   ]
  },
  {
   "cell_type": "code",
   "execution_count": 16,
   "id": "5f683a08-57bf-4cb0-abb7-a60e2c26d2f4",
   "metadata": {},
   "outputs": [
    {
     "ename": "TypeError",
     "evalue": "Can't instantiate abstract class swift without an implementation for abstract method 'backforward'",
     "output_type": "error",
     "traceback": [
      "\u001b[1;31m---------------------------------------------------------------------------\u001b[0m",
      "\u001b[1;31mTypeError\u001b[0m                                 Traceback (most recent call last)",
      "Cell \u001b[1;32mIn[16], line 13\u001b[0m\n\u001b[0;32m     11\u001b[0m     \u001b[38;5;28;01mdef\u001b[39;00m \u001b[38;5;21mmoveforward\u001b[39m(\u001b[38;5;28mself\u001b[39m):\n\u001b[0;32m     12\u001b[0m         \u001b[38;5;28mprint\u001b[39m(\u001b[38;5;124m\"\u001b[39m\u001b[38;5;124mForward\u001b[39m\u001b[38;5;124m\"\u001b[39m)\n\u001b[1;32m---> 13\u001b[0m c\u001b[38;5;241m=\u001b[39m\u001b[43mswift\u001b[49m\u001b[43m(\u001b[49m\u001b[43m)\u001b[49m\n\u001b[0;32m     14\u001b[0m c\u001b[38;5;241m.\u001b[39mmoveforward()\n",
      "\u001b[1;31mTypeError\u001b[0m: Can't instantiate abstract class swift without an implementation for abstract method 'backforward'"
     ]
    }
   ],
   "source": [
    "from abc import ABC,abstractmethod\n",
    "class car(ABC):\n",
    "    @abstractmethod\n",
    "    def moveforward(self):\n",
    "        print(\"M\")\n",
    "    @abstractmethod\n",
    "    def backforward(self):\n",
    "        print(\"B\")\n",
    "        pass\n",
    "class swift(car):\n",
    "    def moveforward(self):\n",
    "        print(\"Forward\")\n",
    "c=swift()\n",
    "c.moveforward()\n",
    "\n"
   ]
  },
  {
   "cell_type": "code",
   "execution_count": 18,
   "id": "73916d79-d218-43b6-a6b4-4925016dc85d",
   "metadata": {},
   "outputs": [
    {
     "name": "stdout",
     "output_type": "stream",
     "text": [
      "HI\n"
     ]
    },
    {
     "ename": "NameError",
     "evalue": "name 'printt' is not defined",
     "output_type": "error",
     "traceback": [
      "\u001b[1;31m---------------------------------------------------------------------------\u001b[0m",
      "\u001b[1;31mNameError\u001b[0m                                 Traceback (most recent call last)",
      "Cell \u001b[1;32mIn[18], line 2\u001b[0m\n\u001b[0;32m      1\u001b[0m \u001b[38;5;28mprint\u001b[39m(\u001b[38;5;124m\"\u001b[39m\u001b[38;5;124mHI\u001b[39m\u001b[38;5;124m\"\u001b[39m)\n\u001b[1;32m----> 2\u001b[0m \u001b[43mprintt\u001b[49m(\u001b[38;5;124m\"\u001b[39m\u001b[38;5;124mBYE\u001b[39m\u001b[38;5;124m\"\u001b[39m)\n",
      "\u001b[1;31mNameError\u001b[0m: name 'printt' is not defined"
     ]
    }
   ],
   "source": [
    "print(\"HI\")\n",
    "printt(\"BYE\")"
   ]
  },
  {
   "cell_type": "code",
   "execution_count": 19,
   "id": "5ea74827-5c0e-4ff1-a8a1-de41946ae7fe",
   "metadata": {},
   "outputs": [
    {
     "name": "stdout",
     "output_type": "stream",
     "text": [
      "20\n"
     ]
    }
   ],
   "source": [
    "a=10\n",
    "b=20\n",
    "print(a+a)"
   ]
  },
  {
   "cell_type": "code",
   "execution_count": null,
   "id": "f24228a6-bc2b-44e8-875f-5643623e94a8",
   "metadata": {},
   "outputs": [],
   "source": []
  }
 ],
 "metadata": {
  "kernelspec": {
   "display_name": "Python 3 (ipykernel)",
   "language": "python",
   "name": "python3"
  },
  "language_info": {
   "codemirror_mode": {
    "name": "ipython",
    "version": 3
   },
   "file_extension": ".py",
   "mimetype": "text/x-python",
   "name": "python",
   "nbconvert_exporter": "python",
   "pygments_lexer": "ipython3",
   "version": "3.12.3"
  }
 },
 "nbformat": 4,
 "nbformat_minor": 5
}
