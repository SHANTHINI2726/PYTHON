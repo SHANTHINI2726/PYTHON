{
 "cells": [
  {
   "cell_type": "code",
   "execution_count": 2,
   "id": "d7bd4699-7b93-454c-b386-38c10bde065e",
   "metadata": {},
   "outputs": [
    {
     "name": "stdin",
     "output_type": "stream",
     "text": [
      "Enter the number: 7\n"
     ]
    },
    {
     "name": "stdout",
     "output_type": "stream",
     "text": [
      "prime number\n"
     ]
    }
   ],
   "source": [
    "#prime number or not\n",
    "num=int(input(\"Enter the number:\"))\n",
    "x=0\n",
    "for i in range(2,num):\n",
    "    if num%i==0:\n",
    "        x=1\n",
    "if x==1:\n",
    "    print('not prime')\n",
    "else:\n",
    "    print(\"prime number\")\n",
    "    \n",
    "        "
   ]
  },
  {
   "cell_type": "code",
   "execution_count": 5,
   "id": "c874862e-ea12-4697-b71f-928b063ec3e6",
   "metadata": {},
   "outputs": [
    {
     "name": "stdout",
     "output_type": "stream",
     "text": [
      "1\n",
      "2\n",
      "3\n",
      "5\n",
      "8\n",
      "13\n"
     ]
    }
   ],
   "source": [
    "#Fibonacci series\n",
    "x=0\n",
    "y=1\n",
    "for i in range(0,6):\n",
    "    temp=x+y\n",
    "    x=y\n",
    "    y=temp\n",
    "    print(temp)"
   ]
  },
  {
   "cell_type": "code",
   "execution_count": 7,
   "id": "2cb286f8-50bb-4a1e-a263-16f228a263b5",
   "metadata": {},
   "outputs": [
    {
     "name": "stdout",
     "output_type": "stream",
     "text": [
      "1\n",
      "2\n",
      "3\n",
      "4\n",
      "6\n",
      "7\n",
      "8\n",
      "9\n",
      "10\n"
     ]
    }
   ],
   "source": [
    "#Jump statement\n",
    "#i) continue(skip the 5th iteration and move the 6th iteration)\n",
    "for i in range(1,11):\n",
    "    if i==5:\n",
    "        continue\n",
    "    print(i)\n",
    "        "
   ]
  },
  {
   "cell_type": "code",
   "execution_count": 13,
   "id": "77d5d399-c42e-4aa7-abe7-0be8e35785b7",
   "metadata": {},
   "outputs": [
    {
     "name": "stdout",
     "output_type": "stream",
     "text": [
      "1\n",
      "2\n",
      "3\n",
      "4\n"
     ]
    }
   ],
   "source": [
    "#break(skip the remaining iteration and exit the loop)\n",
    "for i in range(1,10):\n",
    "    if i==5:\n",
    "        break\n",
    "    print(i)\n",
    "    "
   ]
  },
  {
   "cell_type": "code",
   "execution_count": 11,
   "id": "29c55249-c9d8-4791-b090-69e1af39420e",
   "metadata": {},
   "outputs": [],
   "source": [
    "#pass\n",
    "i=5\n",
    "if i==5:\n",
    "    pass\n",
    "else:\n",
    "    print(\"Not equal\")"
   ]
  },
  {
   "cell_type": "code",
   "execution_count": 14,
   "id": "69b1b899-473a-45be-a8fc-0b32ed0bf856",
   "metadata": {},
   "outputs": [
    {
     "name": "stdout",
     "output_type": "stream",
     "text": [
      "1\n",
      "2\n",
      "3\n",
      "4\n"
     ]
    }
   ],
   "source": [
    "#print a number 1 to 5 using while loop\n",
    "i=1\n",
    "while(i<5):\n",
    "    print(i)\n",
    "    i=i+1\n"
   ]
  },
  {
   "cell_type": "code",
   "execution_count": 1,
   "id": "6388eb5e-7e29-4779-959f-ab5e5fe57864",
   "metadata": {},
   "outputs": [
    {
     "name": "stdout",
     "output_type": "stream",
     "text": [
      "10 20 30 40 50 60 70 80 90 100 110 120 130 140 150 160 170 180 190 200 "
     ]
    }
   ],
   "source": [
    "#2) write a loop statement to print the following series,10,20,30,.....,200\n",
    "i=10\n",
    "while i<=200:\n",
    "    print(i,end=\" \")\n",
    "    i=i+10\n"
   ]
  },
  {
   "cell_type": "code",
   "execution_count": 2,
   "id": "bc767654-6663-4af0-8a5c-8dd86ee7e4b0",
   "metadata": {},
   "outputs": [
    {
     "name": "stdout",
     "output_type": "stream",
     "text": [
      "9\n",
      "8\n",
      "7\n",
      "6\n",
      "5\n",
      "4\n",
      "3\n",
      "2\n",
      "1\n",
      "0\n"
     ]
    }
   ],
   "source": [
    "#3) To print the 10 numbers in reverse order\n",
    "i=10\n",
    "while (i>0):\n",
    "    i=i-1\n",
    "    print(i)\n",
    "    \n",
    "    "
   ]
  },
  {
   "cell_type": "code",
   "execution_count": null,
   "id": "b67592ef-7d37-4ca6-a6c4-f864c708eb54",
   "metadata": {},
   "outputs": [],
   "source": []
  },
  {
   "cell_type": "code",
   "execution_count": null,
   "id": "5ec8ddb3-6a87-4af9-87ce-e2c480580020",
   "metadata": {},
   "outputs": [],
   "source": []
  },
  {
   "cell_type": "code",
   "execution_count": null,
   "id": "a31c0c09-28cb-4593-ac43-dfcd395c151f",
   "metadata": {},
   "outputs": [],
   "source": []
  }
 ],
 "metadata": {
  "kernelspec": {
   "display_name": "Python 3 (ipykernel)",
   "language": "python",
   "name": "python3"
  },
  "language_info": {
   "codemirror_mode": {
    "name": "ipython",
    "version": 3
   },
   "file_extension": ".py",
   "mimetype": "text/x-python",
   "name": "python",
   "nbconvert_exporter": "python",
   "pygments_lexer": "ipython3",
   "version": "3.12.3"
  }
 },
 "nbformat": 4,
 "nbformat_minor": 5
}
