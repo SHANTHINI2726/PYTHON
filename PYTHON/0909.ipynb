{
 "cells": [
  {
   "cell_type": "code",
   "execution_count": 5,
   "id": "a775cc3d-5d18-4d8e-8b6e-940bd7b895f5",
   "metadata": {},
   "outputs": [
    {
     "name": "stdout",
     "output_type": "stream",
     "text": [
      "5\n",
      "20\n",
      "60\n",
      "120\n",
      "120\n"
     ]
    }
   ],
   "source": [
    "#write a program to find the factorial of a numbers\n",
    "i=5\n",
    "fact=1\n",
    "while(i>0):\n",
    "    fact=fact*i\n",
    "    i=i-1\n",
    "    print(fact)"
   ]
  },
  {
   "cell_type": "code",
   "execution_count": 7,
   "id": "579ec209-b9a7-4fe0-b03d-6b5ab361fea4",
   "metadata": {},
   "outputs": [
    {
     "name": "stdout",
     "output_type": "stream",
     "text": [
      "1 Odd number\n",
      "2 Even number\n",
      "3 Odd number\n",
      "4 Even number\n",
      "5 Odd number\n",
      "6 Even number\n",
      "7 Odd number\n",
      "8 Even number\n",
      "9 Odd number\n",
      "10 Even number\n",
      "11 Odd number\n",
      "12 Even number\n",
      "13 Odd number\n",
      "14 Even number\n",
      "15 Odd number\n",
      "16 Even number\n",
      "17 Odd number\n",
      "18 Even number\n",
      "19 Odd number\n",
      "20 Even number\n"
     ]
    }
   ],
   "source": [
    "#print even and odd numbers using while loop\n",
    "i=1\n",
    "while(i<=20):\n",
    "    if(i%2==0):\n",
    "        print(i,\"Even number\")\n",
    "    else:\n",
    "        print(i,\"Odd number\")\n",
    "    i=i+1"
   ]
  },
  {
   "cell_type": "code",
   "execution_count": 11,
   "id": "f5aa44f4-ba4e-405b-8229-2a21c9885868",
   "metadata": {},
   "outputs": [
    {
     "name": "stdout",
     "output_type": "stream",
     "text": [
      "\n",
      "1\t2\t3\t4\t5\t\n",
      "2\t4\t6\t8\t10\t\n",
      "3\t6\t9\t12\t15\t\n",
      "4\t8\t12\t16\t20\t\n",
      "5\t10\t15\t20\t25\t"
     ]
    }
   ],
   "source": [
    "#using nested for loop print below output\n",
    "# 1 2 3  4   5\n",
    "# 2 4 6  8   10\n",
    "# 3 6 9  12  15\n",
    "# 4 8 12 16  20\n",
    "# 5 10 1520  25\n",
    "\n",
    "n=5\n",
    "for i in range(1,n+1):\n",
    "    print()\n",
    "    for j in range(1,n+1):\n",
    "        print(i*j,end=\"\\t\")\n",
    "    \n",
    "   \n",
    "    "
   ]
  },
  {
   "cell_type": "code",
   "execution_count": 19,
   "id": "9df1e3a3-099f-448a-b26b-32cb844a0cca",
   "metadata": {},
   "outputs": [
    {
     "name": "stdout",
     "output_type": "stream",
     "text": [
      "apple\n",
      "banana\n"
     ]
    }
   ],
   "source": [
    "#jumb statement\n",
    "a=(\"apple\",\"banana\",\"orange\",\"kiwi\")\n",
    "for x in a:\n",
    "    if x==\"orange\":\n",
    "        break\n",
    "    print(x)\n",
    "    \n"
   ]
  },
  {
   "cell_type": "code",
   "execution_count": 17,
   "id": "a26e1e17-4375-41e4-99c3-82adde30b04f",
   "metadata": {},
   "outputs": [
    {
     "name": "stdout",
     "output_type": "stream",
     "text": [
      "apple\n",
      "orange\n",
      "kiwi\n"
     ]
    }
   ],
   "source": [
    "a=(\"apple\",\"banana\",\"orange\",\"kiwi\")\n",
    "for x in a:\n",
    "    if x==\"banana\":\n",
    "        continue\n",
    "    print(x)"
   ]
  },
  {
   "cell_type": "code",
   "execution_count": 21,
   "id": "ba8bed8d-2ce5-4356-896e-9d40b93fd7f2",
   "metadata": {},
   "outputs": [
    {
     "name": "stdout",
     "output_type": "stream",
     "text": [
      "1 * 10 = 10\n",
      "2 * 10 = 20\n",
      "3 * 10 = 30\n",
      "4 * 10 = 40\n",
      "5 * 10 = 50\n",
      "6 * 10 = 60\n",
      "7 * 10 = 70\n",
      "8 * 10 = 80\n",
      "9 * 10 = 90\n",
      "10 * 10 = 100\n",
      "11 * 10 = 110\n",
      "12 * 10 = 120\n",
      "13 * 10 = 130\n",
      "14 * 10 = 140\n",
      "15 * 10 = 150\n",
      "16 * 10 = 160\n"
     ]
    }
   ],
   "source": [
    "#print the 10 table using while loop\n",
    "i=1\n",
    "while(i<=16):\n",
    "    print(i,\"* 10 =\",i*10)\n",
    "    i=i+1"
   ]
  },
  {
   "cell_type": "code",
   "execution_count": 20,
   "id": "2306ba9d-e8c8-4e8c-b5a2-2b4aacc74e1e",
   "metadata": {},
   "outputs": [
    {
     "name": "stdout",
     "output_type": "stream",
     "text": [
      "30\n"
     ]
    }
   ],
   "source": [
    "a=10\n",
    "b=20\n",
    "print(a+b)"
   ]
  },
  {
   "cell_type": "code",
   "execution_count": 26,
   "id": "37e51dd4-aea8-4083-9884-1e9d18f3bb14",
   "metadata": {},
   "outputs": [
    {
     "name": "stdout",
     "output_type": "stream",
     "text": [
      "1 2 3 \n",
      "4 5 6 \n",
      "7 8 9 \n"
     ]
    }
   ],
   "source": [
    "#Nested for loop\n",
    "matrix=[[1,2,3],[4,5,6],[7,8,9]]\n",
    "for a in matrix:\n",
    "    for b in a:\n",
    "        print(b,end=\" \")\n",
    "    print()\n"
   ]
  },
  {
   "cell_type": "code",
   "execution_count": null,
   "id": "63acd277-ccbd-4051-add3-b0239f9374e6",
   "metadata": {},
   "outputs": [],
   "source": [
    "123\n",
    "456\n",
    "789"
   ]
  },
  {
   "cell_type": "code",
   "execution_count": 23,
   "id": "2db827ec-53b0-4432-969f-dafa8013e21f",
   "metadata": {},
   "outputs": [
    {
     "name": "stdout",
     "output_type": "stream",
     "text": [
      "1\n",
      "2\n",
      "3\n",
      "4\n",
      "5\n"
     ]
    }
   ],
   "source": [
    "a=(1,2,3,4,5)\n",
    "for x in a:\n",
    "    print(x)"
   ]
  },
  {
   "cell_type": "code",
   "execution_count": 31,
   "id": "ccf98b50-7d5e-4639-af78-3806951b28cd",
   "metadata": {},
   "outputs": [
    {
     "name": "stdin",
     "output_type": "stream",
     "text": [
      "Enter the number: 153\n"
     ]
    },
    {
     "name": "stdout",
     "output_type": "stream",
     "text": [
      "1\n",
      "126\n",
      "153\n",
      "153 Is  armstrong number\n"
     ]
    }
   ],
   "source": [
    "n=int(input(\"Enter the number:\"))\n",
    "n=str(n)\n",
    "length=len(n)\n",
    "Sum=0\n",
    "for i in n:\n",
    "    Sum=Sum+int(i)**length\n",
    "    print(Sum)\n",
    "if Sum==int(n):\n",
    "    print(n,\"Is  armstrong number\")\n",
    "else:\n",
    "    print(n,\"is not armstrong number\")\n",
    "    \n",
    "    \n"
   ]
  },
  {
   "cell_type": "code",
   "execution_count": 32,
   "id": "05f36185-1169-4a29-a9b6-760aa9a2a98b",
   "metadata": {},
   "outputs": [
    {
     "name": "stdout",
     "output_type": "stream",
     "text": [
      "1\n",
      "5\n",
      "3\n"
     ]
    }
   ],
   "source": []
  },
  {
   "cell_type": "code",
   "execution_count": 37,
   "id": "293b4bf7-d8c8-4db0-a193-c14a3f91ae4d",
   "metadata": {
    "scrolled": true
   },
   "outputs": [
    {
     "ename": "IndentationError",
     "evalue": "expected an indented block after 'if' statement on line 4 (1704309348.py, line 5)",
     "output_type": "error",
     "traceback": [
      "\u001b[1;36m  Cell \u001b[1;32mIn[37], line 5\u001b[1;36m\u001b[0m\n\u001b[1;33m    print(type(b))\u001b[0m\n\u001b[1;37m    ^\u001b[0m\n\u001b[1;31mIndentationError\u001b[0m\u001b[1;31m:\u001b[0m expected an indented block after 'if' statement on line 4\n"
     ]
    }
   ],
   "source": [
    "a=123\n",
    "b=str(a)[2]\n",
    "b=int(b)\n",
    "if b%2==0:\n",
    "    \n",
    "print(type(b))\n",
    "\n",
    "print(b)\n",
    "\n",
    "print(str(a)[0])"
   ]
  },
  {
   "cell_type": "code",
   "execution_count": null,
   "id": "81025917-a8b9-4bad-a800-be6b9f0e2513",
   "metadata": {},
   "outputs": [],
   "source": []
  }
 ],
 "metadata": {
  "kernelspec": {
   "display_name": "Python 3 (ipykernel)",
   "language": "python",
   "name": "python3"
  },
  "language_info": {
   "codemirror_mode": {
    "name": "ipython",
    "version": 3
   },
   "file_extension": ".py",
   "mimetype": "text/x-python",
   "name": "python",
   "nbconvert_exporter": "python",
   "pygments_lexer": "ipython3",
   "version": "3.12.3"
  }
 },
 "nbformat": 4,
 "nbformat_minor": 5
}
