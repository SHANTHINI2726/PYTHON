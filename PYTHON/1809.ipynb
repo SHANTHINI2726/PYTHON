{
 "cells": [
  {
   "cell_type": "code",
   "execution_count": 3,
   "id": "1226e5f2-e1de-4b9c-8a7f-4e39fc7c6eab",
   "metadata": {},
   "outputs": [
    {
     "name": "stdout",
     "output_type": "stream",
     "text": [
      "movie\n",
      "Shopping\n"
     ]
    }
   ],
   "source": [
    "#oops\n",
    "#class\n",
    "class mall: # create class\n",
    "    def movie(self):\n",
    "        print(\"movie\")\n",
    "    def shopping(self):\n",
    "        print(\"Shopping\")\n",
    "#create objects\n",
    "shanthini=mall()\n",
    "Anand=mall()\n",
    "shanthini.movie()\n",
    "Anand.shopping()"
   ]
  },
  {
   "cell_type": "code",
   "execution_count": 4,
   "id": "ba23fce5-ebd3-4aa1-9577-6ad1a46362cb",
   "metadata": {},
   "outputs": [
    {
     "name": "stdout",
     "output_type": "stream",
     "text": [
      "R15\n",
      "2\n"
     ]
    }
   ],
   "source": [
    "#define a class\n",
    "class Bike:\n",
    "    Name=\"\"\n",
    "    Gear=0\n",
    "#create object of class\n",
    "Bike1=Bike()\n",
    "#Access attributes and assign new values\n",
    "Bike1.Name=\"R15\"\n",
    "Bike1.Gear=2\n",
    "print(Bike1.Name)\n",
    "print(Bike1.Gear)\n"
   ]
  },
  {
   "cell_type": "code",
   "execution_count": 5,
   "id": "c301ab19-6bb1-4d11-8e18-5361f805f61d",
   "metadata": {},
   "outputs": [
    {
     "name": "stdout",
     "output_type": "stream",
     "text": [
      "70000\n"
     ]
    }
   ],
   "source": [
    "#1) create a class called laptop and create following variables and objects\n",
    "#variables----> Price,Processor,Ram\n",
    "#Create objects----> HP,DELL,LENOVO\n",
    "\n",
    "#define a class\n",
    "class laptop:\n",
    "    Price=0\n",
    "    Processor=\"\"\n",
    "    Ram=\"\"\n",
    "#create objecs of a class\n",
    "HP=laptop()\n",
    "DELL=laptop()\n",
    "LENOVO=laptop()\n",
    "#Access attributes and assign new values\n",
    "HP.Price=50000\n",
    "HP.Processor=\"core i5\"\n",
    "HP.Ram=\"8GB\"\n",
    "DELL.Price=70000\n",
    "DELL.Processor=\"core i7\"\n",
    "DELL.Ram=\"16GB\"\n",
    "print(DELL.Price)\n",
    "\n",
    "    "
   ]
  },
  {
   "cell_type": "code",
   "execution_count": 6,
   "id": "be61925d-83f4-46b1-9f1d-db16d58ac786",
   "metadata": {},
   "outputs": [
    {
     "name": "stdout",
     "output_type": "stream",
     "text": [
      "Brand: Dell\n",
      "Price: 60000\n",
      "Ram: 8GB\n"
     ]
    }
   ],
   "source": [
    "class laptop:\n",
    "    def lap(self,Brand,Price,Ram):\n",
    "        print(\"Brand:\",Brand)\n",
    "        print(\"Price:\",int(Price))\n",
    "        print(\"Ram:\",Ram)\n",
    "a=laptop()\n",
    "a.lap(\"Dell\",\"60000\",\"8GB\")\n"
   ]
  },
  {
   "cell_type": "code",
   "execution_count": 7,
   "id": "9d1e6e9a-edba-4f65-acf8-ade8d5a86693",
   "metadata": {},
   "outputs": [
    {
     "name": "stdout",
     "output_type": "stream",
     "text": [
      "Laptop Brand: HP\n",
      "Laptop price: 50000\n",
      "Laptop Ram: 8GB\n",
      "------------------------------------\n",
      "Mobile Brand: Samsung\n",
      "Mobile price: 25000\n",
      "Mobile Ram: 4GB\n"
     ]
    }
   ],
   "source": [
    "class elect:\n",
    "    def __init__(self,Brand,Price,Ram):\n",
    "        self.Brand=Brand\n",
    "        self.Price=Price\n",
    "        self.Ram=Ram\n",
    "    def mobile(self):\n",
    "        print(\"Mobile Brand:\",self.Brand)\n",
    "        print(\"Mobile price:\",self.Price)\n",
    "        print(\"Mobile Ram:\",self.Ram)\n",
    "    def laptop(self):\n",
    "        print(\"Laptop Brand:\",self.Brand)\n",
    "        print(\"Laptop price:\",self.Price)\n",
    "        print(\"Laptop Ram:\",self.Ram)\n",
    "lap=elect(\"HP\",\"50000\",\"8GB\")\n",
    "lap.laptop()\n",
    "print(\"------------------------------------\")\n",
    "mob=elect(\"Samsung\",\"25000\",\"4GB\")\n",
    "mob.mobile()\n",
    "        \n",
    "    "
   ]
  },
  {
   "cell_type": "code",
   "execution_count": 8,
   "id": "4c31a7cd-ed71-4bcf-96bf-18961bb323ac",
   "metadata": {},
   "outputs": [
    {
     "name": "stdout",
     "output_type": "stream",
     "text": [
      "Use laptop\n",
      "Access phone\n"
     ]
    }
   ],
   "source": [
    "#inheritance\n",
    "#parent class\n",
    "#child class\n",
    "#SINGLE INHERITANCE\n",
    "#create a parent class\n",
    "class dad():\n",
    "    def phone(self):\n",
    "        print(\"Access phone\")\n",
    "class son(dad):\n",
    "    def laptop(self):\n",
    "        print(\"Use laptop\")\n",
    "Anand=son()\n",
    "Anand.laptop()\n",
    "Anand.phone()\n"
   ]
  },
  {
   "cell_type": "code",
   "execution_count": null,
   "id": "62ce99dd-8de0-451c-9807-e67f769bf1df",
   "metadata": {},
   "outputs": [],
   "source": []
  }
 ],
 "metadata": {
  "kernelspec": {
   "display_name": "Python 3 (ipykernel)",
   "language": "python",
   "name": "python3"
  },
  "language_info": {
   "codemirror_mode": {
    "name": "ipython",
    "version": 3
   },
   "file_extension": ".py",
   "mimetype": "text/x-python",
   "name": "python",
   "nbconvert_exporter": "python",
   "pygments_lexer": "ipython3",
   "version": "3.12.3"
  }
 },
 "nbformat": 4,
 "nbformat_minor": 5
}
