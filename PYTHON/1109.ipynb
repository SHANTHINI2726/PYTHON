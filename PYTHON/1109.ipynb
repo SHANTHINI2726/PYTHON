{
 "cells": [
  {
   "cell_type": "code",
   "execution_count": 3,
   "id": "885bad86-c4d1-47a9-950f-7d8e584d0035",
   "metadata": {},
   "outputs": [
    {
     "name": "stdout",
     "output_type": "stream",
     "text": [
      "4 is leass than 5\n",
      "2 is leass than 5\n",
      "3 is leass than 5\n",
      "6 is greater than 5\n",
      "8 is greater than 5\n",
      "9 is greater than 5\n",
      "0 is leass than 5\n",
      "1 is leass than 5\n"
     ]
    }
   ],
   "source": [
    "for num in [4,2,3,6,8,9,0,1]:\n",
    "    if num>5:\n",
    "        print(num,\"is greater than 5\")\n",
    "    else:\n",
    "        print(num,\"is leass than 5\")\n"
   ]
  },
  {
   "cell_type": "code",
   "execution_count": 7,
   "id": "3cf243a3-dde8-4d89-8746-1108f910d9ea",
   "metadata": {},
   "outputs": [
    {
     "name": "stdout",
     "output_type": "stream",
     "text": [
      "before sorting: [4, 2, 4, 0, 1, 5, 8, 2, 4]\n",
      "after sorting: [0, 1, 2, 2, 4, 4, 4, 5, 8]\n",
      "4\n"
     ]
    }
   ],
   "source": [
    "a=[4,2,4,0,1,5,8,2,4]\n",
    "print('before sorting:',a)\n",
    "a.sort()\n",
    "print('after sorting:',a)\n",
    "mid=0+8//2\n",
    "print(mid)"
   ]
  },
  {
   "cell_type": "code",
   "execution_count": 12,
   "id": "e08121db-5a8a-4e15-ac4b-ddb780d3afb3",
   "metadata": {},
   "outputs": [
    {
     "name": "stdout",
     "output_type": "stream",
     "text": [
      "list has the items: [2, 3, 4, 5, 6, 1, 8, 9, 0]\n"
     ]
    },
    {
     "name": "stdin",
     "output_type": "stream",
     "text": [
      "Enter a number to search for: 5\n"
     ]
    },
    {
     "name": "stdout",
     "output_type": "stream",
     "text": [
      "5 is found in the given list\n"
     ]
    }
   ],
   "source": [
    "##Linear search\n",
    "mylist=[2,3,4,5,6,1,8,9,0]\n",
    "print(\"list has the items:\",mylist)\n",
    "sitem=int(input(\"Enter a number to search for:\"))\n",
    "flag=0\n",
    "for i in range(len(mylist)):\n",
    "    if mylist[i]==sitem:\n",
    "        flag=1\n",
    "        print(sitem,\"is found in the given list\")\n",
    "if flag==0:\n",
    "    print(sitem,\"is not found in the given list\")\n",
    "    "
   ]
  },
  {
   "cell_type": "code",
   "execution_count": 24,
   "id": "592109e8-04c3-4bd3-84f0-a437a3f09aec",
   "metadata": {},
   "outputs": [
    {
     "name": "stdout",
     "output_type": "stream",
     "text": [
      "3\n",
      "3.0\n",
      "7\n",
      "3.5\n",
      "8\n",
      "2.6666666666666665\n",
      "13\n",
      "3.25\n",
      "19\n",
      "3.8\n",
      "22\n",
      "3.6666666666666665\n",
      "31\n",
      "4.428571428571429\n",
      "39\n",
      "4.875\n",
      "51\n",
      "5.666666666666667\n"
     ]
    }
   ],
   "source": [
    "#To read 10 numbers from the keyboard and find the sum and average\n",
    "def Sum_all():\n",
    "    Sum=0\n",
    "    count=0\n",
    "    for i in [3,4,1,5,6,3,9,8,12]:\n",
    "        Sum=Sum+i\n",
    "        count=count+1\n",
    "        avg=Sum/count\n",
    "        print(Sum)\n",
    "        print(avg)\n",
    "Sum_all()\n",
    "        \n",
    "      "
   ]
  },
  {
   "cell_type": "code",
   "execution_count": 25,
   "id": "3c89f390-9e02-4f48-9648-5ac33f3567b2",
   "metadata": {},
   "outputs": [
    {
     "name": "stdout",
     "output_type": "stream",
     "text": [
      "51\n",
      "5.666666666666667\n"
     ]
    }
   ],
   "source": [
    "Sum=0\n",
    "count=0\n",
    "for i in [3,4,1,5,6,3,9,8,12]:\n",
    "    Sum=Sum+i\n",
    "    count=count+1\n",
    "    avg=Sum/count\n",
    "print(Sum)\n",
    "print(avg)\n",
    "    \n",
    "\n",
    "      "
   ]
  },
  {
   "cell_type": "code",
   "execution_count": 26,
   "id": "d5c896fd-162f-4f8b-b2e6-c8519d529841",
   "metadata": {},
   "outputs": [
    {
     "name": "stdout",
     "output_type": "stream",
     "text": [
      "Hello,and welcome to my world:\n"
     ]
    }
   ],
   "source": [
    "#Data structure\n",
    "#i) strings\n",
    "#capitalize using upper case of the first letter\n",
    "txt=\"hello,and welcome to my world:\"\n",
    "print(txt.capitalize())\n"
   ]
  },
  {
   "cell_type": "code",
   "execution_count": 29,
   "id": "9781b8ae-92ec-4e3c-966c-d1e1cd526a23",
   "metadata": {},
   "outputs": [
    {
     "name": "stdout",
     "output_type": "stream",
     "text": [
      "shanthini\n"
     ]
    }
   ],
   "source": [
    "#ii) casefold() convert strings into lower case\n",
    "a=\"SHANTHINI\"\n",
    "print(a.casefold())"
   ]
  },
  {
   "cell_type": "code",
   "execution_count": 32,
   "id": "0a1ef477-ec57-4acc-ba82-2da6b4be8af3",
   "metadata": {},
   "outputs": [
    {
     "name": "stdout",
     "output_type": "stream",
     "text": [
      "['hi', 'hello', 'how', 'are', 'you']\n"
     ]
    }
   ],
   "source": [
    "#iii) split() to separate the sentence in list\n",
    "string=\"hi hello how are you\"\n",
    "S=string.split()\n",
    "print(S)"
   ]
  },
  {
   "cell_type": "code",
   "execution_count": 34,
   "id": "f7c1fe38-7bbb-4f21-8049-7b3b185d7aaa",
   "metadata": {},
   "outputs": [
    {
     "name": "stdout",
     "output_type": "stream",
     "text": [
      "A programming is aset of instruction\n"
     ]
    }
   ],
   "source": [
    "#iv) strip() using remove prefix and suffix in the string\n",
    "String=\" A programming is aset of instruction \"\n",
    "print(String.strip())\n"
   ]
  },
  {
   "cell_type": "code",
   "execution_count": null,
   "id": "ad64b9fe-aba7-4b20-b96e-5d00dbeac4c2",
   "metadata": {},
   "outputs": [],
   "source": []
  }
 ],
 "metadata": {
  "kernelspec": {
   "display_name": "Python 3 (ipykernel)",
   "language": "python",
   "name": "python3"
  },
  "language_info": {
   "codemirror_mode": {
    "name": "ipython",
    "version": 3
   },
   "file_extension": ".py",
   "mimetype": "text/x-python",
   "name": "python",
   "nbconvert_exporter": "python",
   "pygments_lexer": "ipython3",
   "version": "3.12.3"
  }
 },
 "nbformat": 4,
 "nbformat_minor": 5
}
