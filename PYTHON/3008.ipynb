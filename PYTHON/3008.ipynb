{
 "cells": [
  {
   "cell_type": "code",
   "execution_count": 1,
   "id": "866dbcff-824f-4d01-915f-8025db6ee256",
   "metadata": {},
   "outputs": [
    {
     "name": "stdin",
     "output_type": "stream",
     "text": [
      "Enter the mark: 35\n"
     ]
    },
    {
     "name": "stdout",
     "output_type": "stream",
     "text": [
      "Fail\n"
     ]
    }
   ],
   "source": [
    "#Get input for variable mark,if mark greater than 35 print pass,else print fail\n",
    "mark=int(input('Enter the mark:'))\n",
    "if(mark>35):\n",
    "    print(\"Pass\")\n",
    "else:\n",
    "    print(\"Fail\")\n"
   ]
  },
  {
   "cell_type": "code",
   "execution_count": 2,
   "id": "9d29dfa3-3be1-476f-8511-ef675cefbc35",
   "metadata": {},
   "outputs": [
    {
     "name": "stdin",
     "output_type": "stream",
     "text": [
      " 5\n"
     ]
    },
    {
     "name": "stdout",
     "output_type": "stream",
     "text": [
      "Not divisible\n"
     ]
    }
   ],
   "source": [
    "#Get input for a number and check whether it is divisible by both 3 and 5 ,if yes then print then number is divisible by 3 and 5 ,else not divisible.\n",
    "a=int(input())\n",
    "if(a%3==0) and (a%5==0):\n",
    "    print(\"Divisble\")\n",
    "else:\n",
    "    print(\"Not divisible\")\n"
   ]
  },
  {
   "cell_type": "code",
   "execution_count": 4,
   "id": "0a113127-6cbb-4e8c-9299-86c91a879538",
   "metadata": {},
   "outputs": [
    {
     "name": "stdin",
     "output_type": "stream",
     "text": [
      "Enter the number: 3\n"
     ]
    },
    {
     "name": "stdout",
     "output_type": "stream",
     "text": [
      "3 is odd\n"
     ]
    }
   ],
   "source": [
    "#Get input for a number and find its even or odd\n",
    "num=int(input(\"Enter the number:\"))\n",
    "if num%2==0:\n",
    "    print(num,\"is even\")\n",
    "else:\n",
    "    print(num,\"is odd\")"
   ]
  },
  {
   "cell_type": "code",
   "execution_count": 9,
   "id": "d98ee522-7da2-4aa6-8972-e315d5a3d32e",
   "metadata": {},
   "outputs": [
    {
     "name": "stdin",
     "output_type": "stream",
     "text": [
      "Enter the score; 45\n"
     ]
    },
    {
     "name": "stdout",
     "output_type": "stream",
     "text": [
      "Average student\n"
     ]
    }
   ],
   "source": [
    "#Nested if\n",
    "#Get input for score out of 100\n",
    "#i) if score <35 'Poor student'\n",
    "#ii) if score greater than or equal to 35 but less than 70 \"Average student\"\n",
    "#iii) if score is greater than or equalto 70 and less than 90 \"Good student\"\n",
    "#iii) if score is greater than or equal 90 \"Excellent\"\n",
    "score=int(input('Enter the score;'))\n",
    "if (score<35):\n",
    "    print(\"poor student\")\n",
    "elif(score>=35 and score<70):\n",
    "    print(\"Average student\")\n",
    "elif (score>=70 and score <90):\n",
    "    print(\"Good student\")\n",
    "else:\n",
    "    print(\"Excellent\")\n",
    "    \n",
    "        \n",
    "\n"
   ]
  },
  {
   "cell_type": "code",
   "execution_count": 14,
   "id": "0fad438d-a3fa-48cf-a2f4-bc210b32fc40",
   "metadata": {},
   "outputs": [
    {
     "name": "stdin",
     "output_type": "stream",
     "text": [
      " 10\n",
      " 5\n",
      "Add/Sub/Mul/Div Mul\n"
     ]
    },
    {
     "name": "stdout",
     "output_type": "stream",
     "text": [
      "50\n"
     ]
    }
   ],
   "source": [
    "#Make mini calculator\n",
    "#i) Get input for 2 numbers a and b\n",
    "#ii) Get input from user whether add/ sub/ mul/div\n",
    "#if users select add option add two numbers and print the result\n",
    "a=int(input())\n",
    "b=int(input())\n",
    "operation=input(\"Add/Sub/Mul/Div\")\n",
    "if (operation==\"Add\"):\n",
    "    print(a+b)\n",
    "elif(operation==\"Sub\"):\n",
    "    print(a-b)\n",
    "elif(operation==\"Mul\"):\n",
    "    print(a*b)\n",
    "elif(operation==\"Div\"):\n",
    "    print(a/b)\n",
    "else:\n",
    "    print(\"Invalid operation\")\n"
   ]
  },
  {
   "cell_type": "code",
   "execution_count": 16,
   "id": "bbaee5f3-7aac-4c79-bfc4-21f0f8ca256d",
   "metadata": {},
   "outputs": [
    {
     "name": "stdin",
     "output_type": "stream",
     "text": [
      " 75\n",
      " shanthini\n",
      " ds\n"
     ]
    },
    {
     "name": "stdout",
     "output_type": "stream",
     "text": [
      "You are eligible for scholarship\n"
     ]
    }
   ],
   "source": [
    "#Get input for score in percentage .\n",
    "#Only if the percentage is greater than or equal to 75 get input for name,department then print you are eligible for scholarship\n",
    "# if not print you are not eligible for scholarship\n",
    "score=int(input())\n",
    "if score>=75:\n",
    "    Name=input()\n",
    "    Dept=input()\n",
    "    print(\"You are eligible for scholarship\")\n",
    "else:\n",
    "    print(\"You are not eligible for scholarship\")"
   ]
  },
  {
   "cell_type": "code",
   "execution_count": 19,
   "id": "a6ff9ec1-b9ea-4168-aad3-5b8ad283fd4d",
   "metadata": {},
   "outputs": [
    {
     "name": "stdin",
     "output_type": "stream",
     "text": [
      "salary: 15000\n",
      "age: 26\n"
     ]
    },
    {
     "name": "stdout",
     "output_type": "stream",
     "text": [
      "Not eligible for loan\n"
     ]
    }
   ],
   "source": [
    "#Get input for salary and age\n",
    "# if salary greater than or qeual to 20000 or age less than or equal to 25 get input for required loan amount,if not print you are not eliguble for loan\n",
    "# if required loan is less than or equal to 50,000 print you are eligible \n",
    "#if it is greater than 50000 print maximum loan amount is 50000\n",
    "salary=int(input(\"salary:\"))\n",
    "age=int(input(\"age:\"))\n",
    "if(salary>=20000 or age<=25):\n",
    "    la=int(input('required loan amount:'))\n",
    "    if(la<=50000):\n",
    "        print('Eligible for loan')\n",
    "    else:\n",
    "        print(\"Maximum loan amount 50000\")\n",
    "else:\n",
    "    print(\"Not eligible for loan\")\n",
    "    "
   ]
  },
  {
   "cell_type": "code",
   "execution_count": 29,
   "id": "4c6e24c0-f2da-446f-a15a-2b535f8e2be7",
   "metadata": {},
   "outputs": [
    {
     "name": "stdout",
     "output_type": "stream",
     "text": [
      "0\n",
      "0\n",
      "100\n"
     ]
    }
   ],
   "source": [
    "print(2100%4)\n",
    "print(2100%100)\n",
    "print(2100%400)\n",
    "\n",
    "\n",
    "\n"
   ]
  },
  {
   "cell_type": "code",
   "execution_count": null,
   "id": "f0968c0b-dd2a-4a09-b690-9a719fd7b504",
   "metadata": {},
   "outputs": [],
   "source": []
  }
 ],
 "metadata": {
  "kernelspec": {
   "display_name": "Python 3 (ipykernel)",
   "language": "python",
   "name": "python3"
  },
  "language_info": {
   "codemirror_mode": {
    "name": "ipython",
    "version": 3
   },
   "file_extension": ".py",
   "mimetype": "text/x-python",
   "name": "python",
   "nbconvert_exporter": "python",
   "pygments_lexer": "ipython3",
   "version": "3.12.3"
  }
 },
 "nbformat": 4,
 "nbformat_minor": 5
}
