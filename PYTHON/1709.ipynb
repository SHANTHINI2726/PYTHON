{
 "cells": [
  {
   "cell_type": "code",
   "execution_count": 1,
   "id": "c4793c47-f69f-4af5-b50f-ba2db37988a6",
   "metadata": {},
   "outputs": [
    {
     "name": "stdout",
     "output_type": "stream",
     "text": [
      "SHANTHINI\n"
     ]
    }
   ],
   "source": [
    "#Lambda function\n",
    "Upper=lambda String: String.upper()\n",
    "print(Upper(\"shanthini\"))"
   ]
  },
  {
   "cell_type": "code",
   "execution_count": 3,
   "id": "c1f38591-91fc-4ec0-93e6-220ae9d01fda",
   "metadata": {},
   "outputs": [
    {
     "name": "stdout",
     "output_type": "stream",
     "text": [
      "7\n"
     ]
    }
   ],
   "source": [
    "#Lambda function in Addition\n",
    "x=lambda a,b:a+b\n",
    "print(x(2,5))"
   ]
  },
  {
   "cell_type": "code",
   "execution_count": 6,
   "id": "441ed779-5033-4b52-b84e-05a596367035",
   "metadata": {},
   "outputs": [
    {
     "name": "stdout",
     "output_type": "stream",
     "text": [
      "Happy learning Anand\n"
     ]
    }
   ],
   "source": [
    "msg=lambda name: print(\"Happy learning\",name)\n",
    "msg(\"Anand\")"
   ]
  },
  {
   "cell_type": "code",
   "execution_count": 7,
   "id": "1ec759b5-b627-46d8-946c-257afbaaa186",
   "metadata": {},
   "outputs": [
    {
     "data": {
      "text/plain": [
       "[7, 9, 11, 13, 15]"
      ]
     },
     "execution_count": 7,
     "metadata": {},
     "output_type": "execute_result"
    }
   ],
   "source": [
    "#passing multiple list to lambda function\n",
    "a=[1,2,3,4,5]\n",
    "b=[6,7,8,9,10]\n",
    "list_add=map(lambda x,y: x+y,a,b)\n",
    "list(list_add)"
   ]
  },
  {
   "cell_type": "code",
   "execution_count": 8,
   "id": "df5602fb-4cdd-44a8-9d5a-f5326e44477b",
   "metadata": {},
   "outputs": [
    {
     "data": {
      "text/plain": [
       "(15, 25, 35, 45, 55)"
      ]
     },
     "execution_count": 8,
     "metadata": {},
     "output_type": "execute_result"
    }
   ],
   "source": [
    "#tuple in lambda expressions\n",
    "a=(10,20,30,40,50)\n",
    "tup_add=map(lambda x: x+5,a)\n",
    "tuple(tup_add)"
   ]
  },
  {
   "cell_type": "code",
   "execution_count": 9,
   "id": "e7ef5242-4d8c-4b15-9d81-24467ecb7da4",
   "metadata": {},
   "outputs": [
    {
     "data": {
      "text/plain": [
       "{5, 10, 15}"
      ]
     },
     "execution_count": 9,
     "metadata": {},
     "output_type": "execute_result"
    }
   ],
   "source": [
    "#Set\n",
    "Set={1,2,3}\n",
    "set_add=map(lambda x: x*5,Set)\n",
    "set(set_add)"
   ]
  },
  {
   "cell_type": "code",
   "execution_count": 12,
   "id": "9e06e95d-88c1-413e-811e-63e4f7712d3f",
   "metadata": {},
   "outputs": [
    {
     "name": "stdout",
     "output_type": "stream",
     "text": [
      "[12, 2, 8]\n"
     ]
    }
   ],
   "source": [
    "#filter() method\n",
    "#to print the evev number in list using filter method\n",
    "def even(num):\n",
    "    if num%2==0:\n",
    "        return True\n",
    "    else:\n",
    "        return False\n",
    "numbers=[12,13,5,7,2,8,9,3]\n",
    "filt=filter(even,numbers)\n",
    "print(list(filt))\n",
    "        "
   ]
  },
  {
   "cell_type": "code",
   "execution_count": 15,
   "id": "47647faa-36e4-4763-adc2-2658db436fd0",
   "metadata": {},
   "outputs": [
    {
     "name": "stdout",
     "output_type": "stream",
     "text": [
      "[20, 18]\n"
     ]
    }
   ],
   "source": [
    "def Myfun(x):\n",
    "    if x>=18:\n",
    "        return True\n",
    "    else:\n",
    "        return False\n",
    "age=[10,15,20,17,18]\n",
    "filt=filter(Myfun,age)\n",
    "print(list(filt))\n",
    "    "
   ]
  },
  {
   "cell_type": "code",
   "execution_count": 16,
   "id": "4af28efe-5393-4729-a626-6dc2ce51303f",
   "metadata": {},
   "outputs": [
    {
     "name": "stdout",
     "output_type": "stream",
     "text": [
      "[2, 4, 6, 8]\n"
     ]
    }
   ],
   "source": [
    "lis=[1,2,3,5,4,6,7,8]\n",
    "filt_list=list(filter(lambda x: x%2==0,lis))\n",
    "print(filt_list)"
   ]
  },
  {
   "cell_type": "code",
   "execution_count": 19,
   "id": "ee418827-bba2-4e40-9597-0c2de735e8c2",
   "metadata": {},
   "outputs": [
    {
     "name": "stdout",
     "output_type": "stream",
     "text": [
      "[3, 5, 4]\n"
     ]
    }
   ],
   "source": [
    "lis=[1,2,3,5,4,6,7,8]\n",
    "filt=list(filter(lambda x: x>2 and x<6,lis))\n",
    "print(filt)"
   ]
  },
  {
   "cell_type": "code",
   "execution_count": 23,
   "id": "e08d565d-daa5-4868-b3b6-841a899c0dc2",
   "metadata": {},
   "outputs": [
    {
     "name": "stdout",
     "output_type": "stream",
     "text": [
      "1\n"
     ]
    }
   ],
   "source": [
    "lis=\"3456\"\n",
    "print(int(lis[0])%2)"
   ]
  },
  {
   "cell_type": "code",
   "execution_count": null,
   "id": "91447a50-7987-42ea-8754-33fee8ad1f40",
   "metadata": {},
   "outputs": [],
   "source": []
  }
 ],
 "metadata": {
  "kernelspec": {
   "display_name": "Python 3 (ipykernel)",
   "language": "python",
   "name": "python3"
  },
  "language_info": {
   "codemirror_mode": {
    "name": "ipython",
    "version": 3
   },
   "file_extension": ".py",
   "mimetype": "text/x-python",
   "name": "python",
   "nbconvert_exporter": "python",
   "pygments_lexer": "ipython3",
   "version": "3.12.3"
  }
 },
 "nbformat": 4,
 "nbformat_minor": 5
}
