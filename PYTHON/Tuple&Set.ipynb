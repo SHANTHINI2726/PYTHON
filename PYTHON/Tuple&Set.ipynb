{
 "cells": [
  {
   "cell_type": "code",
   "execution_count": 2,
   "id": "a3931aef-37c5-4cbf-b2d3-40559540be11",
   "metadata": {},
   "outputs": [
    {
     "name": "stdout",
     "output_type": "stream",
     "text": [
      "<class 'tuple'>\n"
     ]
    }
   ],
   "source": [
    "#Create Tuple\n",
    "Tuple=(1,2,3,4,5,6)\n",
    "print(type(Tuple))"
   ]
  },
  {
   "cell_type": "code",
   "execution_count": 3,
   "id": "e1318ef8-02d9-41d4-85d8-33e31d0bac6a",
   "metadata": {},
   "outputs": [
    {
     "name": "stdout",
     "output_type": "stream",
     "text": [
      "6\n"
     ]
    }
   ],
   "source": [
    "#Length\n",
    "print(len(Tuple))\n"
   ]
  },
  {
   "cell_type": "code",
   "execution_count": 5,
   "id": "123ed307-938d-42f9-b351-7f49d7856dfb",
   "metadata": {},
   "outputs": [
    {
     "name": "stdout",
     "output_type": "stream",
     "text": [
      "<class 'tuple'>\n"
     ]
    }
   ],
   "source": [
    "a=[1,2,3,4]\n",
    "a=tuple(a)\n",
    "print(type(a))\n"
   ]
  },
  {
   "cell_type": "code",
   "execution_count": 7,
   "id": "a25e0930-e3fd-47bd-ad42-5223e4daec8d",
   "metadata": {},
   "outputs": [
    {
     "name": "stdout",
     "output_type": "stream",
     "text": [
      "D\n",
      "C\n"
     ]
    }
   ],
   "source": [
    "#Access item\n",
    "#Positive indexing\n",
    "Tuple=(\"A\",\"B\",\"C\",\"D\",1,3,5)\n",
    "print(Tuple[3])\n",
    "#Negative indexing\n",
    "print(Tuple[-5])"
   ]
  },
  {
   "cell_type": "code",
   "execution_count": 10,
   "id": "1a6c01bb-2e64-4ac6-9f62-d4fe76e81dc5",
   "metadata": {},
   "outputs": [
    {
     "name": "stdout",
     "output_type": "stream",
     "text": [
      "('B', 'C', 'D', 1)\n"
     ]
    }
   ],
   "source": [
    "#Slicing\n",
    "Tuple=(\"A\",\"B\",\"C\",\"D\",1,3,5)\n",
    "print(Tuple[1:-2])"
   ]
  },
  {
   "cell_type": "code",
   "execution_count": 11,
   "id": "30ef269d-ce44-4ccb-8dd3-b79ad3bb2bca",
   "metadata": {},
   "outputs": [
    {
     "data": {
      "text/plain": [
       "True"
      ]
     },
     "execution_count": 11,
     "metadata": {},
     "output_type": "execute_result"
    }
   ],
   "source": [
    "#Item Exists\n",
    "Tuple=(\"A\",\"B\",\"C\",\"D\",1,3,5)\n",
    "\"E\" not in Tuple"
   ]
  },
  {
   "cell_type": "code",
   "execution_count": 13,
   "id": "b0c5d8d0-10a4-4043-899c-8ab25ef436c4",
   "metadata": {},
   "outputs": [
    {
     "name": "stdout",
     "output_type": "stream",
     "text": [
      "('A', 'B', 'C', 'D', 1, 3, 5, 'E')\n"
     ]
    }
   ],
   "source": [
    "#Append\n",
    "Tuple=(\"A\",\"B\",\"C\",\"D\",1,3,5)\n",
    "#Casting (tuple to list)\n",
    "List=list(Tuple)\n",
    "List.append(\"E\")\n",
    "Tuple=tuple(List)\n",
    "print(Tuple)"
   ]
  },
  {
   "cell_type": "code",
   "execution_count": 17,
   "id": "2b16a438-c57b-4d20-969b-f5627d87e0b7",
   "metadata": {},
   "outputs": [
    {
     "name": "stdout",
     "output_type": "stream",
     "text": [
      "('A', 'B', 'C', 'D', 1, 2, 5)\n"
     ]
    }
   ],
   "source": [
    "#Update\n",
    "Tuple=(\"A\",\"B\",\"C\",\"D\",1,3,5)\n",
    "#Casting (tuple to list)\n",
    "List=list(Tuple)\n",
    "List[5]=2\n",
    "Tuple=tuple(List)\n",
    "print(Tuple)\n"
   ]
  },
  {
   "cell_type": "code",
   "execution_count": 20,
   "id": "ae3bdaa0-020b-480e-96d6-e689ed31dc3f",
   "metadata": {},
   "outputs": [
    {
     "name": "stdout",
     "output_type": "stream",
     "text": [
      "('A', 'B', 'C', 'D', 1, 3)\n"
     ]
    }
   ],
   "source": [
    "#Remove\n",
    "Tuple=(\"A\",\"B\",\"C\",\"D\",1,3,5)\n",
    "List=list(Tuple)\n",
    "List.remove(5)\n",
    "Tuple=tuple(List)\n",
    "print(Tuple)\n"
   ]
  },
  {
   "cell_type": "code",
   "execution_count": 22,
   "id": "3274ad4a-9218-4aba-8d59-73bd4e45ca55",
   "metadata": {},
   "outputs": [],
   "source": [
    "del Tuple"
   ]
  },
  {
   "cell_type": "code",
   "execution_count": 23,
   "id": "c446ca38-08eb-4d3e-8290-02ceca97898e",
   "metadata": {},
   "outputs": [
    {
     "ename": "NameError",
     "evalue": "name 'Tuple' is not defined",
     "output_type": "error",
     "traceback": [
      "\u001b[1;31m---------------------------------------------------------------------------\u001b[0m",
      "\u001b[1;31mNameError\u001b[0m                                 Traceback (most recent call last)",
      "Cell \u001b[1;32mIn[23], line 1\u001b[0m\n\u001b[1;32m----> 1\u001b[0m \u001b[38;5;28mprint\u001b[39m(\u001b[43mTuple\u001b[49m)\n",
      "\u001b[1;31mNameError\u001b[0m: name 'Tuple' is not defined"
     ]
    }
   ],
   "source": [
    "print(Tuple)"
   ]
  },
  {
   "cell_type": "code",
   "execution_count": 30,
   "id": "f2381129-8bf3-409b-9856-964ceebe54da",
   "metadata": {},
   "outputs": [
    {
     "name": "stdout",
     "output_type": "stream",
     "text": [
      "<class 'set'>\n",
      "{'English', 3.2, 4, 5, 'Maths', 'Biology', 'CS'}\n"
     ]
    }
   ],
   "source": [
    "#Create Set\n",
    "A={\"Maths\",\"English\",\"CS\",4,5,3.2,\"Biology\"}\n",
    "print(type(A))\n",
    "print(A)\n"
   ]
  },
  {
   "cell_type": "code",
   "execution_count": 27,
   "id": "312fac9e-86e4-4f5c-bf1e-8f6d1ba5fe8e",
   "metadata": {},
   "outputs": [
    {
     "data": {
      "text/plain": [
       "True"
      ]
     },
     "execution_count": 27,
     "metadata": {},
     "output_type": "execute_result"
    }
   ],
   "source": [
    "#Access item\n",
    "A={\"Maths\",\"English\",\"CS\",4,5,3.2,\"Biology\"}\n",
    "\"CS\" in A\n"
   ]
  },
  {
   "cell_type": "code",
   "execution_count": 28,
   "id": "3ad8b9a4-7e65-489b-a735-3ac23f97e8e6",
   "metadata": {},
   "outputs": [
    {
     "name": "stdout",
     "output_type": "stream",
     "text": [
      "{'English', 3.2, 4, 5, 'Maths', 'Biology', 6, 'CS'}\n"
     ]
    }
   ],
   "source": [
    "#Add item\n",
    "A={\"Maths\",\"English\",\"CS\",4,5,3.2,\"Biology\"}\n",
    "A.add(6)\n",
    "print(A)"
   ]
  },
  {
   "cell_type": "code",
   "execution_count": 36,
   "id": "52e0be79-9403-4d3a-8591-21064628a9d9",
   "metadata": {},
   "outputs": [
    {
     "name": "stdout",
     "output_type": "stream",
     "text": [
      "{1, 2, 3.2, 4, 5, 3, 'English', 'Maths', 'Biology', 'CS'}\n"
     ]
    }
   ],
   "source": [
    "# Update\n",
    "A={\"Maths\",\"English\",\"CS\",4,5,3.2,\"Biology\"}\n",
    "B={1,2,3,4,5}\n",
    "A.update(B)\n",
    "print(A)"
   ]
  },
  {
   "cell_type": "code",
   "execution_count": 38,
   "id": "0a6c24cd-e552-4520-9f0b-0144804489dc",
   "metadata": {},
   "outputs": [
    {
     "name": "stdout",
     "output_type": "stream",
     "text": [
      "{'English', 4, 5, 'Maths', 'Biology', 'CS'}\n"
     ]
    }
   ],
   "source": [
    "#Remove\n",
    "A={\"Maths\",\"English\",\"CS\",4,5,3.2,\"Biology\"}\n",
    "A.remove(3.2)\n",
    "print(A)"
   ]
  },
  {
   "cell_type": "code",
   "execution_count": 40,
   "id": "2eabc728-fe05-4f6b-bca0-17016ee6bd85",
   "metadata": {},
   "outputs": [
    {
     "name": "stdout",
     "output_type": "stream",
     "text": [
      "{'English', 3.2, 4, 5, 'Biology', 'CS'}\n"
     ]
    }
   ],
   "source": [
    "#Discard\n",
    "A={\"Maths\",\"English\",\"CS\",4,5,3.2,\"Biology\"}\n",
    "A.discard('Maths')\n",
    "print(A)"
   ]
  },
  {
   "cell_type": "code",
   "execution_count": 42,
   "id": "8f0dc19c-3e3f-4ae5-a4d4-97e6152d0adc",
   "metadata": {},
   "outputs": [
    {
     "name": "stdout",
     "output_type": "stream",
     "text": [
      "{3.2, 4, 5, 'Maths', 'Biology', 'CS'}\n"
     ]
    }
   ],
   "source": [
    "#Remove random value using pop()\n",
    "A={\"Maths\",\"English\",\"CS\",4,5,3.2,\"Biology\"}\n",
    "A.pop()\n",
    "print(A)"
   ]
  },
  {
   "cell_type": "code",
   "execution_count": 43,
   "id": "88890404-cd0b-45bf-ab10-89c43a8d06d6",
   "metadata": {},
   "outputs": [
    {
     "name": "stdout",
     "output_type": "stream",
     "text": [
      "set()\n"
     ]
    }
   ],
   "source": [
    "#clear()\n",
    "A={\"Maths\",\"English\",\"CS\",4,5,3.2,\"Biology\"}\n",
    "A.clear()\n",
    "print(A)"
   ]
  },
  {
   "cell_type": "code",
   "execution_count": 45,
   "id": "516653fc-c8bb-4a03-a1a1-5f0a8276c051",
   "metadata": {},
   "outputs": [
    {
     "ename": "NameError",
     "evalue": "name 'A' is not defined",
     "output_type": "error",
     "traceback": [
      "\u001b[1;31m---------------------------------------------------------------------------\u001b[0m",
      "\u001b[1;31mNameError\u001b[0m                                 Traceback (most recent call last)",
      "Cell \u001b[1;32mIn[45], line 4\u001b[0m\n\u001b[0;32m      2\u001b[0m A\u001b[38;5;241m=\u001b[39m{\u001b[38;5;124m\"\u001b[39m\u001b[38;5;124mMaths\u001b[39m\u001b[38;5;124m\"\u001b[39m,\u001b[38;5;124m\"\u001b[39m\u001b[38;5;124mEnglish\u001b[39m\u001b[38;5;124m\"\u001b[39m,\u001b[38;5;124m\"\u001b[39m\u001b[38;5;124mCS\u001b[39m\u001b[38;5;124m\"\u001b[39m,\u001b[38;5;241m4\u001b[39m,\u001b[38;5;241m5\u001b[39m,\u001b[38;5;241m3.2\u001b[39m,\u001b[38;5;124m\"\u001b[39m\u001b[38;5;124mBiology\u001b[39m\u001b[38;5;124m\"\u001b[39m}\n\u001b[0;32m      3\u001b[0m \u001b[38;5;28;01mdel\u001b[39;00m A\n\u001b[1;32m----> 4\u001b[0m \u001b[38;5;28mprint\u001b[39m(\u001b[43mA\u001b[49m)\n",
      "\u001b[1;31mNameError\u001b[0m: name 'A' is not defined"
     ]
    }
   ],
   "source": [
    "#Delete the Set\n",
    "A={\"Maths\",\"English\",\"CS\",4,5,3.2,\"Biology\"}\n",
    "del A\n",
    "print(A)"
   ]
  },
  {
   "cell_type": "code",
   "execution_count": 47,
   "id": "d24b8d34-eb4b-4f94-a85f-ceefac10a7b3",
   "metadata": {},
   "outputs": [
    {
     "name": "stdout",
     "output_type": "stream",
     "text": [
      "{'Movie': 'Ghilli', 'Director': 'Dharani', 'Year': 2004}\n",
      "<class 'dict'>\n"
     ]
    }
   ],
   "source": [
    "Dict={\n",
    "    \"Movie\":\"Ghilli\",\n",
    "    \"Director\":\"Dharani\",\n",
    "    \"Year\":2004\n",
    "}\n",
    "print(Dict)\n",
    "print(type(Dict))"
   ]
  },
  {
   "cell_type": "code",
   "execution_count": 49,
   "id": "8c272814-0c38-4438-ac43-75aa4065872c",
   "metadata": {},
   "outputs": [
    {
     "name": "stdout",
     "output_type": "stream",
     "text": [
      "dict_items([('Movie', 'Ghilli'), ('Director', 'Dharani'), ('Year', 2004), ('year', 2005)])\n"
     ]
    }
   ],
   "source": [
    "x=Dict.items()\n",
    "Dict[\"year\"]=2005\n",
    "print(x)\n"
   ]
  },
  {
   "cell_type": "code",
   "execution_count": 50,
   "id": "ee6fe7a5-75d0-44a3-ad33-58e019e6834f",
   "metadata": {},
   "outputs": [
    {
     "name": "stdout",
     "output_type": "stream",
     "text": [
      "Ghilli\n"
     ]
    }
   ],
   "source": [
    "print(Dict.get(\"Movie\"))"
   ]
  },
  {
   "cell_type": "code",
   "execution_count": 51,
   "id": "daf1c33a-a3b2-41c2-9ab5-025e41a98260",
   "metadata": {},
   "outputs": [
    {
     "name": "stdout",
     "output_type": "stream",
     "text": [
      "BITA\n"
     ]
    }
   ],
   "source": []
  },
  {
   "cell_type": "code",
   "execution_count": null,
   "id": "79e0e9a2-50f3-4d8e-9d83-4bd648ec6747",
   "metadata": {},
   "outputs": [],
   "source": []
  }
 ],
 "metadata": {
  "kernelspec": {
   "display_name": "Python 3 (ipykernel)",
   "language": "python",
   "name": "python3"
  },
  "language_info": {
   "codemirror_mode": {
    "name": "ipython",
    "version": 3
   },
   "file_extension": ".py",
   "mimetype": "text/x-python",
   "name": "python",
   "nbconvert_exporter": "python",
   "pygments_lexer": "ipython3",
   "version": "3.12.3"
  }
 },
 "nbformat": 4,
 "nbformat_minor": 5
}
