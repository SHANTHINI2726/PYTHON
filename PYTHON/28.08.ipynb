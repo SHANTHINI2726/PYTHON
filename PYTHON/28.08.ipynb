{
 "cells": [
  {
   "cell_type": "code",
   "execution_count": 2,
   "id": "22f4c992-043c-45a8-afc7-0f7d92060bea",
   "metadata": {},
   "outputs": [
    {
     "name": "stdout",
     "output_type": "stream",
     "text": [
      "<class 'dict'>\n",
      "{'Movie': 'Ghilli', 'Director': 'Dharani', 'Year': 2004}\n"
     ]
    }
   ],
   "source": [
    "#Create Dictionary\n",
    "A={\n",
    "    \"Movie\":\"Ghilli\",\n",
    "    \"Director\":\"Dharani\",\n",
    "    \"Year\":2004\n",
    "}\n",
    "print(type(A))\n",
    "print(A)"
   ]
  },
  {
   "cell_type": "code",
   "execution_count": 3,
   "id": "9078cdec-8aee-4f07-bb7b-b1e525857890",
   "metadata": {},
   "outputs": [
    {
     "name": "stdout",
     "output_type": "stream",
     "text": [
      "<class 'dict'>\n"
     ]
    }
   ],
   "source": [
    "a={'Movie': 'Ghilli', 'Director': 'Dharani', 'Year': 2004}\n",
    "print(type(a))"
   ]
  },
  {
   "cell_type": "code",
   "execution_count": 4,
   "id": "59dd0829-7c7d-4486-a272-ebc718c10624",
   "metadata": {},
   "outputs": [
    {
     "name": "stdout",
     "output_type": "stream",
     "text": [
      "Ghilli\n"
     ]
    }
   ],
   "source": [
    "A={\n",
    "    \"Movie\":\"Ghilli\",\n",
    "    \"Director\":\"Dharani\",\n",
    "    \"Year\":2004\n",
    "}\n",
    "print(A[\"Movie\"])"
   ]
  },
  {
   "cell_type": "code",
   "execution_count": 6,
   "id": "82b13380-4cec-4430-8942-e05869adbc3c",
   "metadata": {},
   "outputs": [
    {
     "name": "stdout",
     "output_type": "stream",
     "text": [
      "Ghilli\n"
     ]
    }
   ],
   "source": [
    "A={\n",
    "    \"Movie\":\"Ghilli\",\n",
    "    \"Director\":\"Dharani\",\n",
    "    \"Year\":2004\n",
    "}\n",
    "x=A[\"Movie\"]\n",
    "print(x)"
   ]
  },
  {
   "cell_type": "code",
   "execution_count": 5,
   "id": "f4084d23-99d5-4fab-8ac7-7992c966bc83",
   "metadata": {},
   "outputs": [
    {
     "name": "stdout",
     "output_type": "stream",
     "text": [
      "3\n"
     ]
    }
   ],
   "source": [
    "print(len(A))"
   ]
  },
  {
   "cell_type": "code",
   "execution_count": 7,
   "id": "ee57f0dd-047f-463b-bfda-ea6bfeeb1bb4",
   "metadata": {},
   "outputs": [
    {
     "name": "stdout",
     "output_type": "stream",
     "text": [
      "Ghilli\n"
     ]
    }
   ],
   "source": [
    "print(A[\"Movie\"])"
   ]
  },
  {
   "cell_type": "code",
   "execution_count": 8,
   "id": "4f19d8cb-9fa8-4dd1-9869-d5b789eb6d52",
   "metadata": {},
   "outputs": [
    {
     "name": "stdout",
     "output_type": "stream",
     "text": [
      "Ghilli\n"
     ]
    }
   ],
   "source": [
    "print(A.get(\"Movie\"))"
   ]
  },
  {
   "cell_type": "code",
   "execution_count": 9,
   "id": "91b862d5-3717-431c-b102-04aa7cedc87e",
   "metadata": {},
   "outputs": [
    {
     "name": "stdout",
     "output_type": "stream",
     "text": [
      "dict_keys(['Movie', 'Director', 'Year'])\n"
     ]
    }
   ],
   "source": [
    "#Get keys\n",
    "A={\n",
    "    \"Movie\":\"Ghilli\",\n",
    "    \"Director\":\"Dharani\",\n",
    "    \"Year\":2004\n",
    "}\n",
    "print(A.keys())\n"
   ]
  },
  {
   "cell_type": "code",
   "execution_count": 10,
   "id": "7168b436-545c-4313-b46a-ddad5e4605a5",
   "metadata": {},
   "outputs": [
    {
     "name": "stdout",
     "output_type": "stream",
     "text": [
      "dict_values(['Ghilli', 'Dharani', 2004])\n"
     ]
    }
   ],
   "source": [
    "#Get keys\n",
    "A={\n",
    "    \"Movie\":\"Ghilli\",\n",
    "    \"Director\":\"Dharani\",\n",
    "    \"Year\":2004\n",
    "}\n",
    "print(A.values())\n"
   ]
  },
  {
   "cell_type": "code",
   "execution_count": 15,
   "id": "09245d83-38c8-4428-9b85-47289262e7af",
   "metadata": {},
   "outputs": [
    {
     "data": {
      "text/plain": [
       "True"
      ]
     },
     "execution_count": 15,
     "metadata": {},
     "output_type": "execute_result"
    }
   ],
   "source": [
    "A={\n",
    "    \"Movie\":\"Ghilli\",\n",
    "    \"Director\":\"Dharani\",\n",
    "    \"Year\":2004\n",
    "}\n",
    "\"Movie\" in A\n"
   ]
  },
  {
   "cell_type": "code",
   "execution_count": 16,
   "id": "c605f181-3dcb-4810-9d91-9248cab13953",
   "metadata": {},
   "outputs": [
    {
     "name": "stdout",
     "output_type": "stream",
     "text": [
      "{'Movie': 'Ghilli', 'Director': 'Dharani', 'Year': 2003}\n"
     ]
    }
   ],
   "source": [
    "#Update\n",
    "A={\n",
    "    \"Movie\":\"Ghilli\",\n",
    "    \"Director\":\"Dharani\",\n",
    "    \"Year\":2004\n",
    "}\n",
    "A[\"Year\"]=2003\n",
    "print(A)\n"
   ]
  },
  {
   "cell_type": "code",
   "execution_count": 17,
   "id": "eafd46f1-2232-449c-9176-1b110b5a3502",
   "metadata": {},
   "outputs": [
    {
     "name": "stdout",
     "output_type": "stream",
     "text": [
      "{'Movie': 'Ghilli', 'Director': 'Dharani', 'Year': 2004, 'Actor': 'Vijay'}\n"
     ]
    }
   ],
   "source": [
    "#Add\n",
    "A={\n",
    "    \"Movie\":\"Ghilli\",\n",
    "    \"Director\":\"Dharani\",\n",
    "    \"Year\":2004\n",
    "}\n",
    "A[\"Actor\"]=\"Vijay\"\n",
    "print(A)\n",
    "\n"
   ]
  },
  {
   "cell_type": "code",
   "execution_count": 19,
   "id": "d3742789-1158-46b3-9667-e1e2da6daa5e",
   "metadata": {},
   "outputs": [
    {
     "name": "stdout",
     "output_type": "stream",
     "text": [
      "{'Movie': 'Ghilli', 'Director': 'Dharani', 'Actor': 'Vijay'}\n"
     ]
    }
   ],
   "source": [
    "#Remove items\n",
    "A={\n",
    "    \"Movie\":\"Ghilli\",\n",
    "    \"Director\":\"Dharani\",\n",
    "    \"Actor\":\"Vijay\",\n",
    "    \"Year\":2004\n",
    "}\n",
    "A.pop(\"Year\")\n",
    "print(A)"
   ]
  },
  {
   "cell_type": "code",
   "execution_count": 23,
   "id": "fafb0bd5-1603-4391-9f9f-11318e7f859d",
   "metadata": {},
   "outputs": [
    {
     "name": "stdout",
     "output_type": "stream",
     "text": [
      "{'Movie': 'Ghilli', 'Director': 'Dharani'}\n"
     ]
    }
   ],
   "source": [
    "A={\n",
    "    \"Movie\":\"Ghilli\",\n",
    "    \"Director\":\"Dharani\",\n",
    "    \"Actor\":\"Vijay\"\n",
    "}\n",
    "A.popitem()\n",
    "print(A)"
   ]
  },
  {
   "cell_type": "code",
   "execution_count": 24,
   "id": "537b6ed5-e3a2-42c7-9b65-4530711a90ac",
   "metadata": {},
   "outputs": [
    {
     "name": "stdout",
     "output_type": "stream",
     "text": [
      "{'Movie': 'Ghilli', 'Director': 'Dharani', 'Actor': 'Vijay'}\n"
     ]
    }
   ],
   "source": [
    "#Delete\n",
    "A={\n",
    "    \"Movie\":\"Ghilli\",\n",
    "    \"Director\":\"Dharani\",\n",
    "    \"Actor\":\"Vijay\",\n",
    "    \"Year\":2004\n",
    "}\n",
    "del A[\"Year\"]\n",
    "print(A)\n"
   ]
  },
  {
   "cell_type": "code",
   "execution_count": 26,
   "id": "f91be1a9-edb9-4160-9755-705b3e7e50ee",
   "metadata": {},
   "outputs": [
    {
     "ename": "NameError",
     "evalue": "name 'A' is not defined",
     "output_type": "error",
     "traceback": [
      "\u001b[1;31m---------------------------------------------------------------------------\u001b[0m",
      "\u001b[1;31mNameError\u001b[0m                                 Traceback (most recent call last)",
      "Cell \u001b[1;32mIn[26], line 1\u001b[0m\n\u001b[1;32m----> 1\u001b[0m \u001b[38;5;28;01mdel\u001b[39;00m \u001b[43mA\u001b[49m\n\u001b[0;32m      2\u001b[0m \u001b[38;5;28mprint\u001b[39m(A)\n",
      "\u001b[1;31mNameError\u001b[0m: name 'A' is not defined"
     ]
    }
   ],
   "source": [
    "del A\n",
    "print(A)"
   ]
  },
  {
   "cell_type": "code",
   "execution_count": 28,
   "id": "89915710-4a13-4f68-a035-0d593837b8f6",
   "metadata": {},
   "outputs": [
    {
     "name": "stdout",
     "output_type": "stream",
     "text": [
      "{}\n"
     ]
    }
   ],
   "source": [
    "#Empty dictionary\n",
    "A={\n",
    "    \"Movie\":\"Ghilli\",\n",
    "    \"Director\":\"Dharani\",\n",
    "    \"Actor\":\"Vijay\",\n",
    "    \"Year\":2004\n",
    "}\n",
    "A.clear()\n",
    "print(A)"
   ]
  },
  {
   "cell_type": "code",
   "execution_count": 29,
   "id": "c5c64903-a3b8-44c8-8132-fbed2d23edb3",
   "metadata": {},
   "outputs": [
    {
     "name": "stdout",
     "output_type": "stream",
     "text": [
      "set()\n"
     ]
    }
   ],
   "source": [
    "b={1,2,34,5}\n",
    "b.clear()\n",
    "print(b)"
   ]
  },
  {
   "cell_type": "code",
   "execution_count": 31,
   "id": "b715eb0a-c366-4f3e-85f4-c9c1dc30dcbf",
   "metadata": {},
   "outputs": [
    {
     "name": "stdout",
     "output_type": "stream",
     "text": [
      "[1, 2, 3, 4, 5, 6]\n"
     ]
    }
   ],
   "source": [
    "List=[1,2,3,4,5]\n",
    "List.append(6)\n",
    "print(List)"
   ]
  },
  {
   "cell_type": "code",
   "execution_count": 32,
   "id": "867c6f30-b0d1-4c9b-abf7-79f8d031380e",
   "metadata": {},
   "outputs": [
    {
     "name": "stdout",
     "output_type": "stream",
     "text": [
      "{1, 2, 3, 4, 5}\n"
     ]
    }
   ],
   "source": [
    "a={1,2,3,4}\n",
    "a.add(5)\n",
    "print(a)"
   ]
  },
  {
   "cell_type": "code",
   "execution_count": 35,
   "id": "7b4dab70-caa2-4d86-912d-f5f5d9af8ca8",
   "metadata": {},
   "outputs": [
    {
     "name": "stdin",
     "output_type": "stream",
     "text": [
      "Enter the value: 3\n",
      "Enter the value: 5\n"
     ]
    },
    {
     "name": "stdout",
     "output_type": "stream",
     "text": [
      "Addition of a and b: 8\n"
     ]
    }
   ],
   "source": [
    "#1) Arithmetic operator\n",
    "#Addition(+)\n",
    "a=int(input(\"Enter the value:\"))\n",
    "b=int(input(\"Enter the value:\"))\n",
    "print(\"Addition of a and b:\",a+b)"
   ]
  },
  {
   "cell_type": "code",
   "execution_count": 36,
   "id": "29c68fbb-ad70-4060-8288-a79322b20ca2",
   "metadata": {},
   "outputs": [
    {
     "name": "stdout",
     "output_type": "stream",
     "text": [
      "1\n"
     ]
    }
   ],
   "source": [
    "#Modulus(To display the reminder)\n",
    "a=15\n",
    "b=2\n",
    "print(a%b)"
   ]
  },
  {
   "cell_type": "code",
   "execution_count": 40,
   "id": "bae97c66-307d-4c57-ab88-3ee32414f65b",
   "metadata": {},
   "outputs": [
    {
     "name": "stdout",
     "output_type": "stream",
     "text": [
      "27\n"
     ]
    }
   ],
   "source": [
    "#Exponential(**)\n",
    "print(3**3)"
   ]
  },
  {
   "cell_type": "code",
   "execution_count": 41,
   "id": "7ccb091d-ca15-4ce8-907b-e7c3a0820e12",
   "metadata": {},
   "outputs": [
    {
     "name": "stdout",
     "output_type": "stream",
     "text": [
      "7\n"
     ]
    }
   ],
   "source": [
    "#Floor division(//)\n",
    "print(15//2)"
   ]
  },
  {
   "cell_type": "code",
   "execution_count": 42,
   "id": "5359b08d-e881-41f2-ad3d-44519361152e",
   "metadata": {},
   "outputs": [
    {
     "name": "stdout",
     "output_type": "stream",
     "text": [
      "2\n"
     ]
    }
   ],
   "source": [
    "#Assignment operator\n",
    "x=2\n",
    "print(x)"
   ]
  },
  {
   "cell_type": "code",
   "execution_count": 43,
   "id": "be6644d5-3f11-4269-9c3f-5608b8eedccb",
   "metadata": {},
   "outputs": [
    {
     "name": "stdout",
     "output_type": "stream",
     "text": [
      "8\n"
     ]
    }
   ],
   "source": [
    "x=5\n",
    "x+=3(x=x+3)\n",
    "print(x)"
   ]
  },
  {
   "cell_type": "code",
   "execution_count": null,
   "id": "cb3543e1-1e12-4002-88f6-89d5dd2c35db",
   "metadata": {},
   "outputs": [],
   "source": [
    "\n"
   ]
  }
 ],
 "metadata": {
  "kernelspec": {
   "display_name": "Python 3 (ipykernel)",
   "language": "python",
   "name": "python3"
  },
  "language_info": {
   "codemirror_mode": {
    "name": "ipython",
    "version": 3
   },
   "file_extension": ".py",
   "mimetype": "text/x-python",
   "name": "python",
   "nbconvert_exporter": "python",
   "pygments_lexer": "ipython3",
   "version": "3.12.3"
  }
 },
 "nbformat": 4,
 "nbformat_minor": 5
}
