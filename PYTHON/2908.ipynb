{
 "cells": [
  {
   "cell_type": "code",
   "execution_count": 1,
   "id": "c019e9aa-3bfc-421e-b9a0-68c7d28fc6fb",
   "metadata": {},
   "outputs": [
    {
     "name": "stdin",
     "output_type": "stream",
     "text": [
      "Enter the value 5\n",
      "Enter the value: 6\n"
     ]
    },
    {
     "name": "stdout",
     "output_type": "stream",
     "text": [
      "False\n"
     ]
    }
   ],
   "source": [
    "#comparison operator(==,!=,>,<,<=,>=)\n",
    "#Equal \n",
    "a=int(input(\"Enter the value\"))\n",
    "b=int(input(\"Enter the value:\"))\n",
    "print(a==b)\n",
    "\n"
   ]
  },
  {
   "cell_type": "code",
   "execution_count": 2,
   "id": "0e58e368-b1a4-4dc4-9af5-194937cd6afc",
   "metadata": {},
   "outputs": [
    {
     "name": "stdin",
     "output_type": "stream",
     "text": [
      "Enter the value 5\n",
      "Enter the value: 6\n"
     ]
    },
    {
     "name": "stdout",
     "output_type": "stream",
     "text": [
      "True\n"
     ]
    }
   ],
   "source": [
    "#not equal\n",
    "a=int(input(\"Enter the value\"))\n",
    "b=int(input(\"Enter the value:\"))\n",
    "print(a!=b)"
   ]
  },
  {
   "cell_type": "code",
   "execution_count": 5,
   "id": "ac60cf24-acf5-4c0d-9eb6-74b549830d70",
   "metadata": {},
   "outputs": [
    {
     "name": "stdin",
     "output_type": "stream",
     "text": [
      "Enter the value 10\n"
     ]
    },
    {
     "name": "stdout",
     "output_type": "stream",
     "text": [
      "True\n"
     ]
    }
   ],
   "source": [
    "#Logical operator(AND,OR,NOT)\n",
    "#AND\n",
    "a=int(input(\"Enter the value\"))\n",
    "print(a>3 and a<=10)"
   ]
  },
  {
   "cell_type": "code",
   "execution_count": 6,
   "id": "6214e22e-8cb5-41b7-a9f0-7ec1e1c5352e",
   "metadata": {},
   "outputs": [
    {
     "name": "stdin",
     "output_type": "stream",
     "text": [
      "Enter the value 1\n"
     ]
    },
    {
     "name": "stdout",
     "output_type": "stream",
     "text": [
      "True\n"
     ]
    }
   ],
   "source": [
    "#OR \n",
    "a=int(input(\"Enter the value\"))\n",
    "print(a>3 or a<=10)"
   ]
  },
  {
   "cell_type": "code",
   "execution_count": 7,
   "id": "72d3096c-41a1-4f78-80dc-28afb32c7759",
   "metadata": {},
   "outputs": [
    {
     "name": "stdin",
     "output_type": "stream",
     "text": [
      "Enter the value 4\n"
     ]
    },
    {
     "name": "stdout",
     "output_type": "stream",
     "text": [
      "False\n"
     ]
    }
   ],
   "source": [
    "#NOT\n",
    "a=int(input(\"Enter the value\"))\n",
    "print(not(a>3 and a<=10))"
   ]
  },
  {
   "cell_type": "code",
   "execution_count": 8,
   "id": "f427f816-8c6d-42cc-b1b8-7de337fb2f25",
   "metadata": {},
   "outputs": [
    {
     "name": "stdout",
     "output_type": "stream",
     "text": [
      "12\n"
     ]
    }
   ],
   "source": [
    "#Bitwise operator(And&,OR|,XOR^,Compliment~,Left shift<<,Right shift>>)\n",
    "#i) And & \n",
    "a=13\n",
    "b=12\n",
    "print(a&b)\n"
   ]
  },
  {
   "cell_type": "code",
   "execution_count": 9,
   "id": "bb9eaaff-1ec3-496d-a21a-97dd341bb064",
   "metadata": {},
   "outputs": [
    {
     "name": "stdout",
     "output_type": "stream",
     "text": [
      "15\n"
     ]
    }
   ],
   "source": [
    "#OR |\n",
    "a=15\n",
    "b=10\n",
    "print(a|b)\n"
   ]
  },
  {
   "cell_type": "code",
   "execution_count": 10,
   "id": "b1b0659a-f919-4479-9c9b-d2e0b06cfd6e",
   "metadata": {},
   "outputs": [
    {
     "name": "stdout",
     "output_type": "stream",
     "text": [
      "5\n"
     ]
    }
   ],
   "source": [
    "#XOR ^(both values different (True equalent to 1) and (both are same values (False equal to 0)\n",
    "a=15\n",
    "b=10\n",
    "print(a^b)"
   ]
  },
  {
   "cell_type": "code",
   "execution_count": 13,
   "id": "f95a3ed4-72c1-4953-9edc-b9ac6fb34e6f",
   "metadata": {},
   "outputs": [
    {
     "name": "stdout",
     "output_type": "stream",
     "text": [
      "-5\n"
     ]
    }
   ],
   "source": [
    "#compliment ~\n",
    "a=~4\n",
    "print(a)"
   ]
  },
  {
   "cell_type": "code",
   "execution_count": 14,
   "id": "2ab32d77-5fce-4864-b718-466cfa286dc6",
   "metadata": {},
   "outputs": [
    {
     "name": "stdout",
     "output_type": "stream",
     "text": [
      "4\n"
     ]
    }
   ],
   "source": [
    "#<< left shift operator\n",
    "print(2<<1)"
   ]
  },
  {
   "cell_type": "code",
   "execution_count": 15,
   "id": "91d9c083-4cff-4068-a568-d7be0d6e3889",
   "metadata": {},
   "outputs": [
    {
     "name": "stdout",
     "output_type": "stream",
     "text": [
      "1\n"
     ]
    }
   ],
   "source": [
    "#>> Right shift operator\n",
    "print(3>>1)"
   ]
  },
  {
   "cell_type": "code",
   "execution_count": 18,
   "id": "3178c98b-694c-4c90-bfb0-e19cc25e95d4",
   "metadata": {},
   "outputs": [
    {
     "name": "stdout",
     "output_type": "stream",
     "text": [
      "True\n"
     ]
    }
   ],
   "source": [
    "#Identify operator\n",
    "#IS \n",
    "a=10\n",
    "b=10\n",
    "print(a is b)"
   ]
  },
  {
   "cell_type": "code",
   "execution_count": 19,
   "id": "6d4911e0-9f97-4ccd-a1f2-a354951e497f",
   "metadata": {},
   "outputs": [
    {
     "name": "stdout",
     "output_type": "stream",
     "text": [
      "True\n"
     ]
    }
   ],
   "source": [
    "#Is not\n",
    "a=\"abcde\"\n",
    "b=\"fghi\"\n",
    "print( a is not b)"
   ]
  },
  {
   "cell_type": "code",
   "execution_count": 20,
   "id": "67d7a14a-11df-4424-b676-1a1b38f0a5f1",
   "metadata": {},
   "outputs": [
    {
     "name": "stdout",
     "output_type": "stream",
     "text": [
      "True\n"
     ]
    }
   ],
   "source": [
    "#Member ship operator\n",
    "#IN\n",
    "a=\"sha\"\n",
    "b=\"shanthini\"\n",
    "print(a in b)\n"
   ]
  },
  {
   "cell_type": "code",
   "execution_count": 22,
   "id": "0a4ee48e-0833-4c98-832f-b012b3ac1b87",
   "metadata": {},
   "outputs": [
    {
     "name": "stdout",
     "output_type": "stream",
     "text": [
      "False\n"
     ]
    }
   ],
   "source": [
    "# NOT In\n",
    "a=\"s\"\n",
    "b=\"s\"\n",
    "print(a not in b)"
   ]
  },
  {
   "cell_type": "code",
   "execution_count": 23,
   "id": "6a8b50d6-f517-489b-b1b8-41f12f5b7105",
   "metadata": {},
   "outputs": [
    {
     "name": "stdin",
     "output_type": "stream",
     "text": [
      "Enter your name: shanthini\n",
      "Enter your age: 24\n"
     ]
    },
    {
     "name": "stdout",
     "output_type": "stream",
     "text": [
      "My name is: shanthini\n",
      "Age: 24\n"
     ]
    }
   ],
   "source": [
    "#Get input of variable \"Name\" and \"Age\" print it?\n",
    "Name=input(\"Enter your name:\")\n",
    "Age=int(input(\"Enter your age:\"))\n",
    "print(\"My name is:\",Name)\n",
    "print(\"Age:\",Age)"
   ]
  },
  {
   "cell_type": "code",
   "execution_count": 25,
   "id": "b9c48e1b-0650-4397-b732-8be0778c0935",
   "metadata": {},
   "outputs": [
    {
     "name": "stdin",
     "output_type": "stream",
     "text": [
      " 4\n",
      " 3\n",
      " 5\n"
     ]
    },
    {
     "name": "stdout",
     "output_type": "stream",
     "text": [
      "d: 60\n",
      "e: 12\n",
      "5.0\n"
     ]
    }
   ],
   "source": [
    "#Get integer input for variable a,b,c\n",
    "#Multiply all 3 variables\n",
    "# Add all the 3 variables\n",
    "# Divide the multiple value by added value \n",
    "a=int(input())\n",
    "b=int(input())\n",
    "c=int(input())\n",
    "d=a*b*c\n",
    "e=a+b+c\n",
    "print(\"d:\",d)\n",
    "print(\"e:\",e)\n",
    "print(d/e)"
   ]
  },
  {
   "cell_type": "code",
   "execution_count": 26,
   "id": "181e4078-7b0e-4a9e-a3af-e38bd52b9994",
   "metadata": {},
   "outputs": [
    {
     "name": "stdout",
     "output_type": "stream",
     "text": [
      "yes\n"
     ]
    }
   ],
   "source": [
    "if True:\n",
    "    print(\"yes\")\n",
    "else:\n",
    "    print(\"No\")"
   ]
  },
  {
   "cell_type": "code",
   "execution_count": 28,
   "id": "08421e5d-33dc-4eaf-8054-2e4965d6dc27",
   "metadata": {},
   "outputs": [
    {
     "name": "stdout",
     "output_type": "stream",
     "text": [
      "To execute else part\n"
     ]
    }
   ],
   "source": [
    "state=\"Tamilnadu\"\n",
    "if (state==\"Tamil\"):\n",
    "    print(\"To execute If part\")\n",
    "elif\n",
    "\n",
    "else:\n",
    "    print(\"To execute else part\")"
   ]
  },
  {
   "cell_type": "code",
   "execution_count": null,
   "id": "03c13bd6-2bee-4704-8190-0aa05bb6cabe",
   "metadata": {},
   "outputs": [],
   "source": []
  }
 ],
 "metadata": {
  "kernelspec": {
   "display_name": "Python 3 (ipykernel)",
   "language": "python",
   "name": "python3"
  },
  "language_info": {
   "codemirror_mode": {
    "name": "ipython",
    "version": 3
   },
   "file_extension": ".py",
   "mimetype": "text/x-python",
   "name": "python",
   "nbconvert_exporter": "python",
   "pygments_lexer": "ipython3",
   "version": "3.12.3"
  }
 },
 "nbformat": 4,
 "nbformat_minor": 5
}
