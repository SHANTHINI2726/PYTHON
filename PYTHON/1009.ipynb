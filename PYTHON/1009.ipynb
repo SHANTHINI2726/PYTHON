{
 "cells": [
  {
   "cell_type": "code",
   "execution_count": 1,
   "id": "0839fe6b-6647-4c40-a97a-cd380fd8e2a3",
   "metadata": {},
   "outputs": [
    {
     "name": "stdout",
     "output_type": "stream",
     "text": [
      "7\n"
     ]
    }
   ],
   "source": [
    "def Function(a,b):\n",
    "    \n",
    "    print(a+b)\n",
    "Function(2,5)"
   ]
  },
  {
   "cell_type": "code",
   "execution_count": 13,
   "id": "3430cdc5-2eae-4857-8fe9-97a74f7d7595",
   "metadata": {},
   "outputs": [
    {
     "name": "stdout",
     "output_type": "stream",
     "text": [
      "16\n"
     ]
    }
   ],
   "source": [
    "def Function(a,b):\n",
    "    a=8\n",
    "    b=8\n",
    "    print(a+b)\n",
    "Function()"
   ]
  },
  {
   "cell_type": "code",
   "execution_count": 26,
   "id": "60b05c56-b157-44b9-b625-477b39ee07f9",
   "metadata": {},
   "outputs": [
    {
     "name": "stdout",
     "output_type": "stream",
     "text": [
      "a+b: 6\n",
      "2\n",
      "3\n",
      "BITA\n",
      "5\n",
      "6\n",
      "7\n"
     ]
    }
   ],
   "source": [
    "#Non-Keyword arguments\n",
    "def Myfun(a,b,*c):\n",
    "    print(\"a+b:\",a+b)\n",
    "    for arg in c:\n",
    "        print(arg)\n",
    "Myfun(1,5,2,3,\"BITA\",5,6,7)\n",
    "    "
   ]
  },
  {
   "cell_type": "code",
   "execution_count": 32,
   "id": "9cdd45a6-c8a6-49fb-922f-45d02c95b8f2",
   "metadata": {},
   "outputs": [
    {
     "name": "stdout",
     "output_type": "stream",
     "text": [
      "Name:Shanthini\n",
      "Dept:DS\n"
     ]
    }
   ],
   "source": [
    "#Keyword-Arguments\n",
    "def Fun(**kwargs):\n",
    "    for key,value in kwargs.items():\n",
    "        print(\"%s:%s\"%(key,value))\n",
    "Fun(Name=\"Shanthini\",Dept=\"DS\")"
   ]
  },
  {
   "cell_type": "code",
   "execution_count": 34,
   "id": "55addf13-3b77-4c1f-95e9-f115c2453542",
   "metadata": {},
   "outputs": [
    {
     "name": "stdout",
     "output_type": "stream",
     "text": [
      "30\n",
      "-10\n"
     ]
    }
   ],
   "source": [
    "#Local and Global variables\n",
    "#Global variable\n",
    "x=10\n",
    "y=20\n",
    "def sum():\n",
    "    z=x+y\n",
    "    print(z)\n",
    "sum()\n",
    "a=x-y\n",
    "print(a)\n",
    "    "
   ]
  },
  {
   "cell_type": "code",
   "execution_count": 36,
   "id": "5d215d10-593d-4492-9c90-61c18796d699",
   "metadata": {},
   "outputs": [
    {
     "name": "stdout",
     "output_type": "stream",
     "text": [
      "35\n",
      "200\n"
     ]
    }
   ],
   "source": [
    "#local variable\n",
    "def sum():\n",
    "    x=15\n",
    "    y=20\n",
    "    print(x+y)\n",
    "sum()\n",
    "print(x*y)"
   ]
  },
  {
   "cell_type": "code",
   "execution_count": 43,
   "id": "28a8fa46-efd0-4ef8-b240-2eedd1052f6a",
   "metadata": {},
   "outputs": [
    {
     "name": "stdin",
     "output_type": "stream",
     "text": [
      "Enter the string: Tamil\n"
     ]
    },
    {
     "name": "stdout",
     "output_type": "stream",
     "text": [
      "limaT\n",
      "Tamil Is not palindrome\n"
     ]
    }
   ],
   "source": [
    "#Palindrome\n",
    "def palindrome(string):\n",
    "    a=string[::-1]\n",
    "    print(a)\n",
    "    if string==a:\n",
    "        print(string,\"Is palindrome\")\n",
    "    else:\n",
    "        print(string,\"Is not palindrome\")\n",
    "palindrome(input(\"Enter the string:\"))\n"
   ]
  },
  {
   "cell_type": "code",
   "execution_count": null,
   "id": "8d41d50a-6502-4902-a67b-7b4e6d32937c",
   "metadata": {},
   "outputs": [],
   "source": []
  }
 ],
 "metadata": {
  "kernelspec": {
   "display_name": "Python 3 (ipykernel)",
   "language": "python",
   "name": "python3"
  },
  "language_info": {
   "codemirror_mode": {
    "name": "ipython",
    "version": 3
   },
   "file_extension": ".py",
   "mimetype": "text/x-python",
   "name": "python",
   "nbconvert_exporter": "python",
   "pygments_lexer": "ipython3",
   "version": "3.12.3"
  }
 },
 "nbformat": 4,
 "nbformat_minor": 5
}
