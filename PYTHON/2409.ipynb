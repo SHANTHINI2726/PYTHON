{
 "cells": [
  {
   "cell_type": "code",
   "execution_count": 2,
   "id": "8172ed29-6836-4773-a38b-2903f1b8680e",
   "metadata": {},
   "outputs": [
    {
     "name": "stdout",
     "output_type": "stream",
     "text": [
      "child thread 1\n",
      "child thread 2\n",
      "child thread 3\n",
      "child thread 4\n",
      "child thread 5\n"
     ]
    }
   ],
   "source": [
    "#multi threading\n",
    "#User level thread\n",
    "from threading import*\n",
    "def display():\n",
    "    for i in range(1,6):\n",
    "        print(\"child thread\",i)\n",
    "display()"
   ]
  },
  {
   "cell_type": "code",
   "execution_count": 3,
   "id": "33d1df2c-2174-463d-b57d-b81e37f39ab7",
   "metadata": {},
   "outputs": [
    {
     "name": "stdout",
     "output_type": "stream",
     "text": [
      "thread 1\n",
      "thread 2\n",
      "thread 3\n",
      "thread 4\n",
      "thread 5\n"
     ]
    }
   ],
   "source": [
    "#kernel level thread\n",
    "from threading import*\n",
    "def display():\n",
    "    for i in range(1,6):\n",
    "        print(\"thread\",i)\n",
    "t=Thread(target=display)\n",
    "t.start()\n",
    "\n"
   ]
  },
  {
   "cell_type": "code",
   "execution_count": 7,
   "id": "f2bd0596-824f-4540-8726-1f008f11c54b",
   "metadata": {},
   "outputs": [
    {
     "name": "stdout",
     "output_type": "stream",
     "text": [
      "thread1thread2 started\n",
      " started\n",
      "thread2thread1 started\n",
      " started\n",
      "thread1 started\n",
      "thread2 started\n",
      "thread1 started\n",
      "thread2 started\n",
      "thread2thread1 started\n",
      " started\n",
      "thread1 started\n",
      "thread1 started\n",
      "thread1 started\n"
     ]
    }
   ],
   "source": [
    "import threading\n",
    "import time\n",
    "def display(x,s,name):\n",
    "    for i in range(x):\n",
    "        time.sleep(s)\n",
    "        print(name,\"started\")\n",
    "t1=threading.Thread(target=display,args=(8,1,\"thread1\"))\n",
    "t1.start()\n",
    "t2=threading.Thread(target=display,args=(5,1,\"thread2\"))\n",
    "t2.start()"
   ]
  },
  {
   "cell_type": "code",
   "execution_count": 13,
   "id": "5e58dac5-cd72-4b1f-84cd-0788f4aa20a3",
   "metadata": {},
   "outputs": [
    {
     "name": "stdout",
     "output_type": "stream",
     "text": [
      "computer programming language, any of various languages for expressing a set of detailed instructions for a digital computerSuch instructions can be executed directly when they are in the computer manufacturer-specific numerical form known as machine language, \n",
      "after a simple substitution process when expressed in a corresponding assembly language, or after translation from some â€œhigher-level language. \n",
      "Although there are many computer languages, relatively few are widely used.\n"
     ]
    }
   ],
   "source": [
    "#Filehandling\n",
    "#Read the text file\n",
    "f=open(\"handling.txt\",\"r\")\n",
    "print(f.read())"
   ]
  },
  {
   "cell_type": "code",
   "execution_count": 19,
   "id": "a92e95d7-4cb9-40ec-be65-2769e6f07049",
   "metadata": {},
   "outputs": [
    {
     "name": "stdout",
     "output_type": "stream",
     "text": [
      "computer programming language, any of various languages for expressing a set of detailed instructions for a digital computerSuch instructions can be executed directly when they are in the computer manufacturer-specific numerical form known as machine language, \n",
      "\n"
     ]
    }
   ],
   "source": [
    "#read one line\n",
    "f=open(\"handling.txt\",\"r\")\n",
    "print(f.readline())"
   ]
  },
  {
   "cell_type": "code",
   "execution_count": 15,
   "id": "6db8a07b-60ec-4f70-9273-33debb4ff8c9",
   "metadata": {},
   "outputs": [
    {
     "name": "stdout",
     "output_type": "stream",
     "text": [
      "computer programming language, any of various languages for expressing a set of detailed instructions for a digital computerSuch instructions can be executed directly when they are in the computer manufacturer-specific numerical form known as machine language, \n",
      "\n",
      "after a simple substitution process when expressed in a corresponding assembly language, or after translation from some â€œhigher-level language. \n",
      "\n",
      "Although there are many computer languages, relatively few are widely used.\n"
     ]
    }
   ],
   "source": [
    "f=open(\"handling.txt\",\"r\")\n",
    "for x in f:\n",
    "    print(x)"
   ]
  },
  {
   "cell_type": "code",
   "execution_count": 20,
   "id": "dd1b5883-ae5c-49f2-a989-297e9eef781a",
   "metadata": {},
   "outputs": [],
   "source": [
    "#Append the additional line\n",
    "f=open(\"handling.txt\",\"a\")\n",
    "f.write(\"Machine and assembly languages are low-level, requiring a programmer to manage explicitly all of a computers idiosyncratic features of data storage and operation.\")\n",
    "f.close()"
   ]
  },
  {
   "cell_type": "code",
   "execution_count": 21,
   "id": "40cb0784-b957-46ca-9a8f-8a6318449b36",
   "metadata": {},
   "outputs": [
    {
     "name": "stdout",
     "output_type": "stream",
     "text": [
      "computer programming language, any of various languages for expressing a set of detailed instructions for a digital computerSuch instructions can be executed directly when they are in the computer manufacturer-specific numerical form known as machine language, \n",
      "after a simple substitution process when expressed in a corresponding assembly language, or after translation from some â€œhigher-level language. \n",
      "Although there are many computer languages, relatively few are widely used.Machine and assembly languages are low-level, requiring a programmer to manage explicitly all of a computers idiosyncratic features of data storage and operation.\n"
     ]
    }
   ],
   "source": [
    "#open and read the file after appending\n",
    "f=open(\"handling.txt\",\"r\")\n",
    "print(f.read())"
   ]
  },
  {
   "cell_type": "code",
   "execution_count": 22,
   "id": "69cd4b60-10df-4081-916e-47ba9367313f",
   "metadata": {},
   "outputs": [],
   "source": [
    "#overwritting the file\n",
    "f=open(\"handling.txt\",\"w\")\n",
    "f.write(\"In contrast, high-level languages shield a programmer from worrying about such considerations and provide a notation that is more easily written and read by programmers\")\n",
    "f.close()\n"
   ]
  },
  {
   "cell_type": "code",
   "execution_count": 23,
   "id": "5ffdfd12-55c4-43a6-90b2-23bfd6984536",
   "metadata": {},
   "outputs": [
    {
     "name": "stdout",
     "output_type": "stream",
     "text": [
      "In contrast, high-level languages shield a programmer from worrying about such considerations and provide a notation that is more easily written and read by programmers\n"
     ]
    }
   ],
   "source": [
    "f=open(\"handling.txt\",\"r\")\n",
    "print(f.read())"
   ]
  },
  {
   "cell_type": "code",
   "execution_count": 24,
   "id": "3aa105da-c418-4137-8288-6e82cea844d0",
   "metadata": {},
   "outputs": [],
   "source": [
    "#create new text file\n",
    "f=open(\"pyth.txt\",\"x\")\n",
    "f.close()"
   ]
  },
  {
   "cell_type": "code",
   "execution_count": 26,
   "id": "731a66d0-c400-4b7c-9ae3-fefc89d1ddf0",
   "metadata": {},
   "outputs": [],
   "source": [
    "f=open(\"pyth.txt\",\"w\")\n",
    "f.write(\"In contrast, high-level languages shield a programmer from worrying about such considerations and provide a notation that is more easily written and read by programmers\")\n",
    "f.close()\n"
   ]
  },
  {
   "cell_type": "code",
   "execution_count": null,
   "id": "87c1e1b9-103a-4e2d-ba97-8873d24f061d",
   "metadata": {},
   "outputs": [],
   "source": []
  }
 ],
 "metadata": {
  "kernelspec": {
   "display_name": "Python 3 (ipykernel)",
   "language": "python",
   "name": "python3"
  },
  "language_info": {
   "codemirror_mode": {
    "name": "ipython",
    "version": 3
   },
   "file_extension": ".py",
   "mimetype": "text/x-python",
   "name": "python",
   "nbconvert_exporter": "python",
   "pygments_lexer": "ipython3",
   "version": "3.12.3"
  }
 },
 "nbformat": 4,
 "nbformat_minor": 5
}
