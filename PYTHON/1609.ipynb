{
 "cells": [
  {
   "cell_type": "code",
   "execution_count": 2,
   "id": "a489bdc6-199e-4540-bd49-af6f17175524",
   "metadata": {},
   "outputs": [
    {
     "name": "stdout",
     "output_type": "stream",
     "text": [
      "programming is a set of instruction \n"
     ]
    }
   ],
   "source": [
    "#Strings\n",
    "#lstrip()\n",
    "string=\" programming is a set of instruction \"\n",
    "print(string.lstrip())"
   ]
  },
  {
   "cell_type": "code",
   "execution_count": 13,
   "id": "ace2ad4c-a74d-4d76-a097-6915f3e60a76",
   "metadata": {},
   "outputs": [
    {
     "name": "stdout",
     "output_type": "stream",
     "text": [
      "17\n"
     ]
    }
   ],
   "source": [
    "string=\"programming is a set of instruction\"\n",
    "sub='set'\n",
    "print(string.find(sub,10,20))\n"
   ]
  },
  {
   "cell_type": "code",
   "execution_count": 15,
   "id": "717adb06-bf10-419c-b903-68dd40f64a0c",
   "metadata": {},
   "outputs": [
    {
     "name": "stdout",
     "output_type": "stream",
     "text": [
      "False\n",
      "True\n"
     ]
    }
   ],
   "source": [
    "#isdigit() --> using check only digits\n",
    "String=\"Bita\"\n",
    "String1=\"1234\"\n",
    "print(String.isdigit())\n",
    "print(String1.isdigit())"
   ]
  },
  {
   "cell_type": "code",
   "execution_count": 18,
   "id": "c589c397-75d0-41f9-b413-2a83792e6a13",
   "metadata": {},
   "outputs": [
    {
     "name": "stdout",
     "output_type": "stream",
     "text": [
      "True\n",
      "True\n"
     ]
    }
   ],
   "source": [
    "#isalnum() ---> to check the given string is num and alphabet\n",
    "String=\"Bita100\"\n",
    "String1=\"bita\"\n",
    "print(String.isalnum())\n",
    "print(String1.isalnum())"
   ]
  },
  {
   "cell_type": "code",
   "execution_count": 19,
   "id": "67921ba4-9069-4686-bd2d-9672841d658e",
   "metadata": {},
   "outputs": [
    {
     "name": "stdout",
     "output_type": "stream",
     "text": [
      "False\n",
      "True\n"
     ]
    }
   ],
   "source": [
    "#isspace() ---to check only space in the string\n",
    "Str=\"programming is a set of instruction\"\n",
    "Str1=\" \"\n",
    "print(Str.isspace())\n",
    "print(Str1.isspace())"
   ]
  },
  {
   "cell_type": "code",
   "execution_count": 20,
   "id": "fbb08c64-a740-4eba-a8ea-2e9722ed8d8d",
   "metadata": {},
   "outputs": [
    {
     "name": "stdout",
     "output_type": "stream",
     "text": [
      "BITA\n"
     ]
    }
   ],
   "source": [
    "#swapcase()---> covert lower to upper and upper to lower\n",
    "a=\"bita\"\n",
    "print(a.swapcase())"
   ]
  },
  {
   "cell_type": "code",
   "execution_count": 24,
   "id": "23d8a35d-45f6-488a-8ea9-e98124bb38bc",
   "metadata": {},
   "outputs": [
    {
     "name": "stdout",
     "output_type": "stream",
     "text": [
      "['apple', 'banana', 'orange']\n"
     ]
    }
   ],
   "source": [
    "#python -list comprehension\n",
    "fruits=[\"apple\",\"banana\",\"kiwi\",\"orange\"]\n",
    "newlist=[]\n",
    "for x in fruits:\n",
    "    if \"a\" in x:\n",
    "        newlist.append(x)\n",
    "print(newlist)\n"
   ]
  },
  {
   "cell_type": "code",
   "execution_count": 25,
   "id": "a86cd4fb-9e3d-43f1-84e1-dc059da0cc0a",
   "metadata": {},
   "outputs": [
    {
     "name": "stdout",
     "output_type": "stream",
     "text": [
      "['apple', 'banana', 'orange']\n"
     ]
    }
   ],
   "source": [
    "fruits=[\"apple\",\"banana\",\"kiwi\",\"orange\"]\n",
    "a=[x for x in fruits if \"a\" in x]\n",
    "print(a)"
   ]
  },
  {
   "cell_type": "code",
   "execution_count": 26,
   "id": "cb76d35b-ec83-42ed-93e4-51342c59f275",
   "metadata": {},
   "outputs": [
    {
     "name": "stdout",
     "output_type": "stream",
     "text": [
      "[1, 9, 25, 49, 81]\n"
     ]
    }
   ],
   "source": [
    "List=[x**2 for x in range(1,11) if x%2==1]\n",
    "print(List)"
   ]
  },
  {
   "cell_type": "code",
   "execution_count": 27,
   "id": "a26aba0b-64dd-4957-865c-3b85871af1a9",
   "metadata": {},
   "outputs": [
    {
     "name": "stdout",
     "output_type": "stream",
     "text": [
      "['banana', 'kiwi', 'orange', 'mango', 'cherry']\n"
     ]
    }
   ],
   "source": [
    "# only accept items that or not apple\n",
    "fruits=[\"apple\",\"banana\",\"kiwi\",\"orange\",\"mango\",\"cherry\"]\n",
    "a=[x for x in fruits if x!=\"apple\"]\n",
    "print(a)"
   ]
  },
  {
   "cell_type": "code",
   "execution_count": 33,
   "id": "bb8c3afe-7ac9-4e2a-95e0-18b7b8bbe06d",
   "metadata": {},
   "outputs": [
    {
     "name": "stdout",
     "output_type": "stream",
     "text": [
      "['apple', 'banana', 'kiwi', 'orange', 'mango', 'cherry']\n"
     ]
    }
   ],
   "source": [
    "fruits=[\"apple\",\"banana\",\"kiwi\",\"orange\",\"mango\",\"cherry\"]\n",
    "a=[x for x in fruits]\n",
    "print(a)"
   ]
  },
  {
   "cell_type": "code",
   "execution_count": 34,
   "id": "82ce88c0-ecb3-4a19-8ca0-d33a79546c3a",
   "metadata": {},
   "outputs": [
    {
     "name": "stdout",
     "output_type": "stream",
     "text": [
      "[1, 2, 3, 4, 5, 6, 7, 8, 9, 10]\n"
     ]
    }
   ],
   "source": [
    "#iterable\n",
    "a=[x for x in range(1,11)]\n",
    "print(a)"
   ]
  },
  {
   "cell_type": "code",
   "execution_count": 36,
   "id": "6fab24eb-2d01-479d-a234-c34ffa0c8730",
   "metadata": {},
   "outputs": [
    {
     "name": "stdout",
     "output_type": "stream",
     "text": [
      "[1, 2, 3, 4]\n"
     ]
    }
   ],
   "source": [
    "#accept only numbers lower than 5\n",
    "a=[x for x in range(1,11) if x<5]\n",
    "print(a)"
   ]
  },
  {
   "cell_type": "code",
   "execution_count": 37,
   "id": "7c14ac36-6c7c-4c2d-822f-0ed3706a6ea4",
   "metadata": {},
   "outputs": [
    {
     "name": "stdout",
     "output_type": "stream",
     "text": [
      "['APPLE', 'BANANA', 'KIWI', 'ORANGE', 'MANGO', 'CHERRY']\n"
     ]
    }
   ],
   "source": [
    "#Expressions\n",
    "fruits=[\"apple\",\"banana\",\"kiwi\",\"orange\",\"mango\",\"cherry\"]\n",
    "a=[x.upper() for x in fruits]\n",
    "print(a)\n"
   ]
  },
  {
   "cell_type": "code",
   "execution_count": 38,
   "id": "39e126d0-5c75-4153-b8e3-d36dfc6fca94",
   "metadata": {},
   "outputs": [
    {
     "name": "stdout",
     "output_type": "stream",
     "text": [
      "['watermelon', 'watermelon', 'watermelon', 'watermelon', 'watermelon', 'watermelon']\n"
     ]
    }
   ],
   "source": [
    "#set all values in newlist to 'watermelon'\n",
    "a=['watermelon' for x in fruits]\n",
    "print(a)"
   ]
  },
  {
   "cell_type": "code",
   "execution_count": 39,
   "id": "ee31d3a0-1400-418c-a5c3-599a413573f4",
   "metadata": {},
   "outputs": [
    {
     "name": "stdout",
     "output_type": "stream",
     "text": [
      "['apple', 'grapes', 'kiwi', 'orange', 'mango', 'cherry']\n"
     ]
    }
   ],
   "source": [
    "#Return grapes instead of banana\n",
    "fruits=[\"apple\",\"banana\",\"kiwi\",\"orange\",\"mango\",\"cherry\"]\n",
    "a=[ x if x!=\"banana\" else \"grapes\" for x in fruits]\n",
    "print(a)"
   ]
  },
  {
   "cell_type": "code",
   "execution_count": null,
   "id": "482ac154-b043-4fca-951f-88ddfda847a9",
   "metadata": {},
   "outputs": [],
   "source": []
  }
 ],
 "metadata": {
  "kernelspec": {
   "display_name": "Python 3 (ipykernel)",
   "language": "python",
   "name": "python3"
  },
  "language_info": {
   "codemirror_mode": {
    "name": "ipython",
    "version": 3
   },
   "file_extension": ".py",
   "mimetype": "text/x-python",
   "name": "python",
   "nbconvert_exporter": "python",
   "pygments_lexer": "ipython3",
   "version": "3.12.3"
  }
 },
 "nbformat": 4,
 "nbformat_minor": 5
}
